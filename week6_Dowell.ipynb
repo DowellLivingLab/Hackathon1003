{
 "cells": [
  {
   "cell_type": "code",
   "execution_count": null,
   "metadata": {
    "id": "l6hLisKZW5Oq"
   },
   "outputs": [],
   "source": [
    "import pandas as pd\n",
    "import numpy as np"
   ]
  },
  {
   "cell_type": "code",
   "execution_count": null,
   "metadata": {
    "id": "iReKSHhTXvnc"
   },
   "outputs": [],
   "source": [
    "df = pd.read_csv(\"/content/drive/MyDrive/dowell/week 6/Week 6 Data - Sheet1.csv\", header =1)"
   ]
  },
  {
   "cell_type": "code",
   "execution_count": null,
   "metadata": {
    "colab": {
     "base_uri": "https://localhost:8080/",
     "height": 244
    },
    "id": "QZtmn4pdX24X",
    "outputId": "58887840-fce7-47b6-a0e9-44aeecfe9f3c"
   },
   "outputs": [
    {
     "name": "stdout",
     "output_type": "stream",
     "text": [
      "(1000, 31)\n"
     ]
    },
    {
     "data": {
      "text/html": [
       "<div>\n",
       "<style scoped>\n",
       "    .dataframe tbody tr th:only-of-type {\n",
       "        vertical-align: middle;\n",
       "    }\n",
       "\n",
       "    .dataframe tbody tr th {\n",
       "        vertical-align: top;\n",
       "    }\n",
       "\n",
       "    .dataframe thead th {\n",
       "        text-align: right;\n",
       "    }\n",
       "</style>\n",
       "<table border=\"1\" class=\"dataframe\">\n",
       "  <thead>\n",
       "    <tr style=\"text-align: right;\">\n",
       "      <th></th>\n",
       "      <th>Days</th>\n",
       "      <th>M</th>\n",
       "      <th>T</th>\n",
       "      <th>W</th>\n",
       "      <th>TH</th>\n",
       "      <th>F</th>\n",
       "      <th>M.1</th>\n",
       "      <th>T.1</th>\n",
       "      <th>W.1</th>\n",
       "      <th>TH.1</th>\n",
       "      <th>F.1</th>\n",
       "      <th>M.2</th>\n",
       "      <th>T.2</th>\n",
       "      <th>W.2</th>\n",
       "      <th>TH.2</th>\n",
       "      <th>F.2</th>\n",
       "      <th>M.3</th>\n",
       "      <th>T.3</th>\n",
       "      <th>W.3</th>\n",
       "      <th>TH.3</th>\n",
       "      <th>F.3</th>\n",
       "      <th>M.4</th>\n",
       "      <th>T.4</th>\n",
       "      <th>W.4</th>\n",
       "      <th>TH.4</th>\n",
       "      <th>F.4</th>\n",
       "      <th>M.5</th>\n",
       "      <th>T.5</th>\n",
       "      <th>W.5</th>\n",
       "      <th>TH.5</th>\n",
       "      <th>F.5</th>\n",
       "    </tr>\n",
       "  </thead>\n",
       "  <tbody>\n",
       "    <tr>\n",
       "      <th>0</th>\n",
       "      <td>1</td>\n",
       "      <td>4</td>\n",
       "      <td>5</td>\n",
       "      <td>5</td>\n",
       "      <td>6</td>\n",
       "      <td>7</td>\n",
       "      <td>1</td>\n",
       "      <td>2</td>\n",
       "      <td>3</td>\n",
       "      <td>4</td>\n",
       "      <td>5</td>\n",
       "      <td>3</td>\n",
       "      <td>4</td>\n",
       "      <td>5</td>\n",
       "      <td>6</td>\n",
       "      <td>7</td>\n",
       "      <td>4</td>\n",
       "      <td>5</td>\n",
       "      <td>6</td>\n",
       "      <td>7</td>\n",
       "      <td>7</td>\n",
       "      <td>5</td>\n",
       "      <td>6</td>\n",
       "      <td>7</td>\n",
       "      <td>7</td>\n",
       "      <td>7</td>\n",
       "      <td>4.0</td>\n",
       "      <td>5.0</td>\n",
       "      <td>6.0</td>\n",
       "      <td>7.0</td>\n",
       "      <td>8.0</td>\n",
       "    </tr>\n",
       "    <tr>\n",
       "      <th>1</th>\n",
       "      <td>2</td>\n",
       "      <td>1</td>\n",
       "      <td>2</td>\n",
       "      <td>3</td>\n",
       "      <td>4</td>\n",
       "      <td>5</td>\n",
       "      <td>5</td>\n",
       "      <td>5</td>\n",
       "      <td>6</td>\n",
       "      <td>6</td>\n",
       "      <td>7</td>\n",
       "      <td>3</td>\n",
       "      <td>4</td>\n",
       "      <td>5</td>\n",
       "      <td>6</td>\n",
       "      <td>7</td>\n",
       "      <td>6</td>\n",
       "      <td>6</td>\n",
       "      <td>7</td>\n",
       "      <td>7</td>\n",
       "      <td>7</td>\n",
       "      <td>3</td>\n",
       "      <td>4</td>\n",
       "      <td>5</td>\n",
       "      <td>6</td>\n",
       "      <td>7</td>\n",
       "      <td>NaN</td>\n",
       "      <td>5.0</td>\n",
       "      <td>6.0</td>\n",
       "      <td>7.0</td>\n",
       "      <td>8.0</td>\n",
       "    </tr>\n",
       "    <tr>\n",
       "      <th>2</th>\n",
       "      <td>3</td>\n",
       "      <td>3</td>\n",
       "      <td>4</td>\n",
       "      <td>5</td>\n",
       "      <td>6</td>\n",
       "      <td>7</td>\n",
       "      <td>2</td>\n",
       "      <td>3</td>\n",
       "      <td>4</td>\n",
       "      <td>5</td>\n",
       "      <td>6</td>\n",
       "      <td>5</td>\n",
       "      <td>6</td>\n",
       "      <td>6</td>\n",
       "      <td>7</td>\n",
       "      <td>7</td>\n",
       "      <td>2</td>\n",
       "      <td>3</td>\n",
       "      <td>4</td>\n",
       "      <td>5</td>\n",
       "      <td>6</td>\n",
       "      <td>3</td>\n",
       "      <td>4</td>\n",
       "      <td>5</td>\n",
       "      <td>6</td>\n",
       "      <td>7</td>\n",
       "      <td>5.0</td>\n",
       "      <td>NaN</td>\n",
       "      <td>NaN</td>\n",
       "      <td>7.0</td>\n",
       "      <td>8.0</td>\n",
       "    </tr>\n",
       "    <tr>\n",
       "      <th>3</th>\n",
       "      <td>4</td>\n",
       "      <td>1</td>\n",
       "      <td>2</td>\n",
       "      <td>3</td>\n",
       "      <td>4</td>\n",
       "      <td>5</td>\n",
       "      <td>1</td>\n",
       "      <td>2</td>\n",
       "      <td>3</td>\n",
       "      <td>4</td>\n",
       "      <td>5</td>\n",
       "      <td>1</td>\n",
       "      <td>2</td>\n",
       "      <td>3</td>\n",
       "      <td>4</td>\n",
       "      <td>5</td>\n",
       "      <td>4</td>\n",
       "      <td>5</td>\n",
       "      <td>6</td>\n",
       "      <td>7</td>\n",
       "      <td>7</td>\n",
       "      <td>4</td>\n",
       "      <td>5</td>\n",
       "      <td>6</td>\n",
       "      <td>7</td>\n",
       "      <td>7</td>\n",
       "      <td>2.0</td>\n",
       "      <td>3.0</td>\n",
       "      <td>NaN</td>\n",
       "      <td>5.0</td>\n",
       "      <td>6.0</td>\n",
       "    </tr>\n",
       "    <tr>\n",
       "      <th>4</th>\n",
       "      <td>5</td>\n",
       "      <td>2</td>\n",
       "      <td>3</td>\n",
       "      <td>4</td>\n",
       "      <td>5</td>\n",
       "      <td>6</td>\n",
       "      <td>5</td>\n",
       "      <td>5</td>\n",
       "      <td>6</td>\n",
       "      <td>6</td>\n",
       "      <td>7</td>\n",
       "      <td>5</td>\n",
       "      <td>6</td>\n",
       "      <td>6</td>\n",
       "      <td>7</td>\n",
       "      <td>7</td>\n",
       "      <td>4</td>\n",
       "      <td>5</td>\n",
       "      <td>6</td>\n",
       "      <td>7</td>\n",
       "      <td>7</td>\n",
       "      <td>3</td>\n",
       "      <td>4</td>\n",
       "      <td>5</td>\n",
       "      <td>6</td>\n",
       "      <td>7</td>\n",
       "      <td>4.0</td>\n",
       "      <td>NaN</td>\n",
       "      <td>6.0</td>\n",
       "      <td>7.0</td>\n",
       "      <td>8.0</td>\n",
       "    </tr>\n",
       "  </tbody>\n",
       "</table>\n",
       "</div>"
      ],
      "text/plain": [
       "   Days  M  T  W  TH  F  M.1  T.1  ...  W.4  TH.4  F.4  M.5  T.5  W.5  TH.5  F.5\n",
       "0     1  4  5  5   6  7    1    2  ...    7     7    7  4.0  5.0  6.0   7.0  8.0\n",
       "1     2  1  2  3   4  5    5    5  ...    5     6    7  NaN  5.0  6.0   7.0  8.0\n",
       "2     3  3  4  5   6  7    2    3  ...    5     6    7  5.0  NaN  NaN   7.0  8.0\n",
       "3     4  1  2  3   4  5    1    2  ...    6     7    7  2.0  3.0  NaN   5.0  6.0\n",
       "4     5  2  3  4   5  6    5    5  ...    5     6    7  4.0  NaN  6.0   7.0  8.0\n",
       "\n",
       "[5 rows x 31 columns]"
      ]
     },
     "execution_count": 4,
     "metadata": {
      "tags": []
     },
     "output_type": "execute_result"
    }
   ],
   "source": [
    "print(df.shape)\n",
    "df.head()"
   ]
  },
  {
   "cell_type": "code",
   "execution_count": null,
   "metadata": {
    "colab": {
     "base_uri": "https://localhost:8080/"
    },
    "id": "edwN_pVuX6Pf",
    "outputId": "41a21064-477d-448e-f57a-011954a636e7"
   },
   "outputs": [
    {
     "data": {
      "text/plain": [
       "Index(['Days', 'M', 'T', 'W', 'TH', 'F', 'M.1', 'T.1', 'W.1', 'TH.1', 'F.1',\n",
       "       'M.2', 'T.2', 'W.2', 'TH.2', 'F.2', 'M.3', 'T.3', 'W.3', 'TH.3', 'F.3',\n",
       "       'M.4', 'T.4', 'W.4', 'TH.4', 'F.4', 'M.5', 'T.5', 'W.5', 'TH.5', 'F.5'],\n",
       "      dtype='object')"
      ]
     },
     "execution_count": 6,
     "metadata": {
      "tags": []
     },
     "output_type": "execute_result"
    }
   ],
   "source": [
    "df.columns"
   ]
  },
  {
   "cell_type": "code",
   "execution_count": null,
   "metadata": {
    "id": "oq-6YJHLYOCE"
   },
   "outputs": [],
   "source": [
    "data = df.rename(columns={'Days':'Student',\n",
    " 'M':\"M1\", 'T': \"T1\", 'W':\"W1\", 'TH':\"TH1\", 'F':\"F1\", \n",
    " 'M.1':\"M2\", 'T.1':\"T2\", 'W.1':\"W2\", 'TH.1':\"TH2\",'F.1':\"F2\",\n",
    " 'M.2':'M3', 'T.2':\"T3\", 'W.2':\"W3\", 'TH.2':\"TH3\", 'F.2':\"F3\", \n",
    " \"M.3\":\"M4\", \"T.3\":\"T4\",\"W.3\":\"W4\",\"TH.3\":\"TH4\",\"F.3\":\"F4\",\n",
    " \"M.4\":\"M5\",\"T.4\":\"T5\",\"W.4\":\"W5\",\"TH.4\":\"TH5\",\"F.4\":\"F5\",'M.5':\"M6\", 'T.5':\"T6\", 'W.5':\"W6\", 'TH.5':\"TH6\", 'F.5':\"F6\"})"
   ]
  },
  {
   "cell_type": "code",
   "execution_count": null,
   "metadata": {
    "colab": {
     "base_uri": "https://localhost:8080/"
    },
    "id": "XSjOGD4VYoqW",
    "outputId": "6645f3ac-1b2b-48a6-a280-92463ed0db26"
   },
   "outputs": [
    {
     "data": {
      "text/plain": [
       "Index(['Student', 'M1', 'T1', 'W1', 'TH1', 'F1', 'M2', 'T2', 'W2', 'TH2', 'F2',\n",
       "       'M3', 'T3', 'W3', 'TH3', 'F3', 'M4', 'T4', 'W4', 'TH4', 'F4', 'M5',\n",
       "       'T5', 'W5', 'TH5', 'F5', 'M6', 'T6', 'W6', 'TH6', 'F6'],\n",
       "      dtype='object')"
      ]
     },
     "execution_count": 8,
     "metadata": {
      "tags": []
     },
     "output_type": "execute_result"
    }
   ],
   "source": [
    "data.columns"
   ]
  },
  {
   "cell_type": "code",
   "execution_count": null,
   "metadata": {
    "colab": {
     "base_uri": "https://localhost:8080/"
    },
    "id": "e5fXp-XVcpzS",
    "outputId": "de886446-7303-4cfe-ae88-2356da2fa0a6"
   },
   "outputs": [
    {
     "name": "stdout",
     "output_type": "stream",
     "text": [
      "<class 'pandas.core.frame.DataFrame'>\n",
      "RangeIndex: 1000 entries, 0 to 999\n",
      "Data columns (total 31 columns):\n",
      " #   Column   Non-Null Count  Dtype  \n",
      "---  ------   --------------  -----  \n",
      " 0   Student  1000 non-null   int64  \n",
      " 1   M1       1000 non-null   int64  \n",
      " 2   T1       1000 non-null   int64  \n",
      " 3   W1       1000 non-null   int64  \n",
      " 4   TH1      1000 non-null   int64  \n",
      " 5   F1       1000 non-null   int64  \n",
      " 6   M2       1000 non-null   int64  \n",
      " 7   T2       1000 non-null   int64  \n",
      " 8   W2       1000 non-null   int64  \n",
      " 9   TH2      1000 non-null   int64  \n",
      " 10  F2       1000 non-null   int64  \n",
      " 11  M3       1000 non-null   int64  \n",
      " 12  T3       1000 non-null   int64  \n",
      " 13  W3       1000 non-null   int64  \n",
      " 14  TH3      1000 non-null   int64  \n",
      " 15  F3       1000 non-null   int64  \n",
      " 16  M4       1000 non-null   int64  \n",
      " 17  T4       1000 non-null   int64  \n",
      " 18  W4       1000 non-null   int64  \n",
      " 19  TH4      1000 non-null   int64  \n",
      " 20  F4       1000 non-null   int64  \n",
      " 21  M5       1000 non-null   int64  \n",
      " 22  T5       1000 non-null   int64  \n",
      " 23  W5       1000 non-null   int64  \n",
      " 24  TH5      1000 non-null   int64  \n",
      " 25  F5       1000 non-null   int64  \n",
      " 26  M6       819 non-null    float64\n",
      " 27  T6       816 non-null    float64\n",
      " 28  W6       817 non-null    float64\n",
      " 29  TH6      784 non-null    float64\n",
      " 30  F6       821 non-null    float64\n",
      "dtypes: float64(5), int64(26)\n",
      "memory usage: 242.3 KB\n"
     ]
    }
   ],
   "source": [
    "data.info()"
   ]
  },
  {
   "cell_type": "code",
   "execution_count": null,
   "metadata": {
    "colab": {
     "base_uri": "https://localhost:8080/"
    },
    "id": "LOqA-nVEYxaO",
    "outputId": "668e2bc1-8830-40d7-9000-b57b38b1fc4f"
   },
   "outputs": [
    {
     "data": {
      "text/plain": [
       "Student    0.000000\n",
       "M1        -0.065773\n",
       "T1        -0.433057\n",
       "W1        -1.097004\n",
       "TH1       -1.235211\n",
       "F1        -1.266516\n",
       "M2         0.072407\n",
       "T2        -0.299664\n",
       "W2        -0.343609\n",
       "TH2       -0.980083\n",
       "F2        -1.074264\n",
       "M3        -0.087948\n",
       "T3        -0.108119\n",
       "W3        -0.547100\n",
       "TH3       -0.639398\n",
       "F3        -1.451353\n",
       "M4        -0.022931\n",
       "T4        -0.332342\n",
       "W4        -0.392791\n",
       "TH4       -0.846319\n",
       "F4        -1.587826\n",
       "M5         0.001339\n",
       "T5        -0.010587\n",
       "W5        -0.303412\n",
       "TH5       -0.777279\n",
       "F5        -1.496726\n",
       "M6        -0.039754\n",
       "T6        -0.352240\n",
       "W6        -0.838248\n",
       "TH6       -0.917327\n",
       "F6        -0.904050\n",
       "dtype: float64"
      ]
     },
     "execution_count": 20,
     "metadata": {
      "tags": []
     },
     "output_type": "execute_result"
    }
   ],
   "source": [
    "data.skew()"
   ]
  },
  {
   "cell_type": "code",
   "execution_count": null,
   "metadata": {
    "colab": {
     "base_uri": "https://localhost:8080/"
    },
    "id": "DuvOf5MRZCJe",
    "outputId": "8c67537d-b9b0-4b11-f3ed-ed76e8041354"
   },
   "outputs": [
    {
     "data": {
      "text/plain": [
       "Student   -1.200000\n",
       "M1        -1.305880\n",
       "T1        -1.170964\n",
       "W1         0.405842\n",
       "TH1        1.207742\n",
       "F1         1.366346\n",
       "M2        -1.321019\n",
       "T2        -1.269884\n",
       "W2        -0.951474\n",
       "TH2        0.445306\n",
       "F2         0.738511\n",
       "M3        -1.259816\n",
       "T3        -1.087696\n",
       "W3        -0.657309\n",
       "TH3       -0.251166\n",
       "F3         2.138656\n",
       "M4        -1.269557\n",
       "T4        -1.251389\n",
       "W4        -1.002642\n",
       "TH4       -0.194935\n",
       "F4         2.365219\n",
       "M5        -1.325567\n",
       "T5        -1.217117\n",
       "W5        -1.098261\n",
       "TH5       -0.294989\n",
       "F5         1.995675\n",
       "M6        -1.275539\n",
       "T6        -1.185389\n",
       "W6        -0.331043\n",
       "TH6        0.137185\n",
       "F6         0.256055\n",
       "dtype: float64"
      ]
     },
     "execution_count": 14,
     "metadata": {
      "tags": []
     },
     "output_type": "execute_result"
    }
   ],
   "source": [
    "data.kurtosis()"
   ]
  },
  {
   "cell_type": "code",
   "execution_count": 107,
   "metadata": {
    "id": "7ac_ow_BEueX"
   },
   "outputs": [],
   "source": [
    "week_1_4 = data[data.columns[0:21]]"
   ]
  },
  {
   "cell_type": "code",
   "execution_count": null,
   "metadata": {
    "colab": {
     "base_uri": "https://localhost:8080/",
     "height": 206
    },
    "id": "aLj7EpLsZHAF",
    "outputId": "b12ddc90-a5b0-4a7b-ef9f-53bab98e535b"
   },
   "outputs": [
    {
     "data": {
      "text/html": [
       "<div>\n",
       "<style scoped>\n",
       "    .dataframe tbody tr th:only-of-type {\n",
       "        vertical-align: middle;\n",
       "    }\n",
       "\n",
       "    .dataframe tbody tr th {\n",
       "        vertical-align: top;\n",
       "    }\n",
       "\n",
       "    .dataframe thead th {\n",
       "        text-align: right;\n",
       "    }\n",
       "</style>\n",
       "<table border=\"1\" class=\"dataframe\">\n",
       "  <thead>\n",
       "    <tr style=\"text-align: right;\">\n",
       "      <th></th>\n",
       "      <th>M5</th>\n",
       "      <th>T5</th>\n",
       "      <th>W5</th>\n",
       "      <th>TH5</th>\n",
       "      <th>F5</th>\n",
       "      <th>M6</th>\n",
       "      <th>T6</th>\n",
       "      <th>W6</th>\n",
       "      <th>TH6</th>\n",
       "      <th>F6</th>\n",
       "    </tr>\n",
       "  </thead>\n",
       "  <tbody>\n",
       "    <tr>\n",
       "      <th>0</th>\n",
       "      <td>5</td>\n",
       "      <td>6</td>\n",
       "      <td>7</td>\n",
       "      <td>7</td>\n",
       "      <td>7</td>\n",
       "      <td>4.0</td>\n",
       "      <td>5.0</td>\n",
       "      <td>6.0</td>\n",
       "      <td>7.0</td>\n",
       "      <td>8.0</td>\n",
       "    </tr>\n",
       "    <tr>\n",
       "      <th>1</th>\n",
       "      <td>3</td>\n",
       "      <td>4</td>\n",
       "      <td>5</td>\n",
       "      <td>6</td>\n",
       "      <td>7</td>\n",
       "      <td>NaN</td>\n",
       "      <td>5.0</td>\n",
       "      <td>6.0</td>\n",
       "      <td>7.0</td>\n",
       "      <td>8.0</td>\n",
       "    </tr>\n",
       "    <tr>\n",
       "      <th>2</th>\n",
       "      <td>3</td>\n",
       "      <td>4</td>\n",
       "      <td>5</td>\n",
       "      <td>6</td>\n",
       "      <td>7</td>\n",
       "      <td>5.0</td>\n",
       "      <td>NaN</td>\n",
       "      <td>NaN</td>\n",
       "      <td>7.0</td>\n",
       "      <td>8.0</td>\n",
       "    </tr>\n",
       "    <tr>\n",
       "      <th>3</th>\n",
       "      <td>4</td>\n",
       "      <td>5</td>\n",
       "      <td>6</td>\n",
       "      <td>7</td>\n",
       "      <td>7</td>\n",
       "      <td>2.0</td>\n",
       "      <td>3.0</td>\n",
       "      <td>NaN</td>\n",
       "      <td>5.0</td>\n",
       "      <td>6.0</td>\n",
       "    </tr>\n",
       "    <tr>\n",
       "      <th>4</th>\n",
       "      <td>3</td>\n",
       "      <td>4</td>\n",
       "      <td>5</td>\n",
       "      <td>6</td>\n",
       "      <td>7</td>\n",
       "      <td>4.0</td>\n",
       "      <td>NaN</td>\n",
       "      <td>6.0</td>\n",
       "      <td>7.0</td>\n",
       "      <td>8.0</td>\n",
       "    </tr>\n",
       "  </tbody>\n",
       "</table>\n",
       "</div>"
      ],
      "text/plain": [
       "   M5  T5  W5  TH5  F5   M6   T6   W6  TH6   F6\n",
       "0   5   6   7    7   7  4.0  5.0  6.0  7.0  8.0\n",
       "1   3   4   5    6   7  NaN  5.0  6.0  7.0  8.0\n",
       "2   3   4   5    6   7  5.0  NaN  NaN  7.0  8.0\n",
       "3   4   5   6    7   7  2.0  3.0  NaN  5.0  6.0\n",
       "4   3   4   5    6   7  4.0  NaN  6.0  7.0  8.0"
      ]
     },
     "execution_count": 26,
     "metadata": {
      "tags": []
     },
     "output_type": "execute_result"
    }
   ],
   "source": [
    "week_5_6 = data[data.columns[21:31]]\n",
    "week_5_6.head()"
   ]
  },
  {
   "cell_type": "code",
   "execution_count": null,
   "metadata": {
    "colab": {
     "base_uri": "https://localhost:8080/",
     "height": 320
    },
    "id": "kNMF0DAxgWHO",
    "outputId": "d05570e8-be2c-4ee0-ae3c-a4e0fcf1672c"
   },
   "outputs": [
    {
     "data": {
      "text/html": [
       "<div>\n",
       "<style scoped>\n",
       "    .dataframe tbody tr th:only-of-type {\n",
       "        vertical-align: middle;\n",
       "    }\n",
       "\n",
       "    .dataframe tbody tr th {\n",
       "        vertical-align: top;\n",
       "    }\n",
       "\n",
       "    .dataframe thead th {\n",
       "        text-align: right;\n",
       "    }\n",
       "</style>\n",
       "<table border=\"1\" class=\"dataframe\">\n",
       "  <thead>\n",
       "    <tr style=\"text-align: right;\">\n",
       "      <th></th>\n",
       "      <th>M5</th>\n",
       "      <th>T5</th>\n",
       "      <th>W5</th>\n",
       "      <th>TH5</th>\n",
       "      <th>F5</th>\n",
       "      <th>M6</th>\n",
       "      <th>T6</th>\n",
       "      <th>W6</th>\n",
       "      <th>TH6</th>\n",
       "      <th>F6</th>\n",
       "    </tr>\n",
       "  </thead>\n",
       "  <tbody>\n",
       "    <tr>\n",
       "      <th>count</th>\n",
       "      <td>1000.000000</td>\n",
       "      <td>1000.000000</td>\n",
       "      <td>1000.000000</td>\n",
       "      <td>1000.000000</td>\n",
       "      <td>1000.000000</td>\n",
       "      <td>819.000000</td>\n",
       "      <td>816.000000</td>\n",
       "      <td>817.000000</td>\n",
       "      <td>784.000000</td>\n",
       "      <td>821.000000</td>\n",
       "    </tr>\n",
       "    <tr>\n",
       "      <th>mean</th>\n",
       "      <td>3.450000</td>\n",
       "      <td>4.323000</td>\n",
       "      <td>5.067000</td>\n",
       "      <td>5.678000</td>\n",
       "      <td>6.140000</td>\n",
       "      <td>3.570208</td>\n",
       "      <td>4.263480</td>\n",
       "      <td>4.870257</td>\n",
       "      <td>5.720663</td>\n",
       "      <td>6.573691</td>\n",
       "    </tr>\n",
       "    <tr>\n",
       "      <th>std</th>\n",
       "      <td>1.741417</td>\n",
       "      <td>1.769124</td>\n",
       "      <td>1.641708</td>\n",
       "      <td>1.431211</td>\n",
       "      <td>1.209902</td>\n",
       "      <td>1.728063</td>\n",
       "      <td>1.536609</td>\n",
       "      <td>1.298683</td>\n",
       "      <td>1.377536</td>\n",
       "      <td>1.488489</td>\n",
       "    </tr>\n",
       "    <tr>\n",
       "      <th>min</th>\n",
       "      <td>1.000000</td>\n",
       "      <td>1.000000</td>\n",
       "      <td>1.000000</td>\n",
       "      <td>1.000000</td>\n",
       "      <td>1.000000</td>\n",
       "      <td>1.000000</td>\n",
       "      <td>1.000000</td>\n",
       "      <td>1.000000</td>\n",
       "      <td>1.000000</td>\n",
       "      <td>2.000000</td>\n",
       "    </tr>\n",
       "    <tr>\n",
       "      <th>25%</th>\n",
       "      <td>2.000000</td>\n",
       "      <td>3.000000</td>\n",
       "      <td>4.000000</td>\n",
       "      <td>5.000000</td>\n",
       "      <td>5.000000</td>\n",
       "      <td>2.000000</td>\n",
       "      <td>3.000000</td>\n",
       "      <td>4.000000</td>\n",
       "      <td>5.000000</td>\n",
       "      <td>6.000000</td>\n",
       "    </tr>\n",
       "    <tr>\n",
       "      <th>50%</th>\n",
       "      <td>3.000000</td>\n",
       "      <td>4.000000</td>\n",
       "      <td>5.000000</td>\n",
       "      <td>6.000000</td>\n",
       "      <td>7.000000</td>\n",
       "      <td>4.000000</td>\n",
       "      <td>4.000000</td>\n",
       "      <td>5.000000</td>\n",
       "      <td>6.000000</td>\n",
       "      <td>7.000000</td>\n",
       "    </tr>\n",
       "    <tr>\n",
       "      <th>75%</th>\n",
       "      <td>5.000000</td>\n",
       "      <td>6.000000</td>\n",
       "      <td>7.000000</td>\n",
       "      <td>7.000000</td>\n",
       "      <td>7.000000</td>\n",
       "      <td>5.000000</td>\n",
       "      <td>6.000000</td>\n",
       "      <td>6.000000</td>\n",
       "      <td>7.000000</td>\n",
       "      <td>8.000000</td>\n",
       "    </tr>\n",
       "    <tr>\n",
       "      <th>max</th>\n",
       "      <td>6.000000</td>\n",
       "      <td>7.000000</td>\n",
       "      <td>7.000000</td>\n",
       "      <td>7.000000</td>\n",
       "      <td>7.000000</td>\n",
       "      <td>6.000000</td>\n",
       "      <td>6.000000</td>\n",
       "      <td>6.000000</td>\n",
       "      <td>7.000000</td>\n",
       "      <td>8.000000</td>\n",
       "    </tr>\n",
       "  </tbody>\n",
       "</table>\n",
       "</div>"
      ],
      "text/plain": [
       "                M5           T5  ...         TH6          F6\n",
       "count  1000.000000  1000.000000  ...  784.000000  821.000000\n",
       "mean      3.450000     4.323000  ...    5.720663    6.573691\n",
       "std       1.741417     1.769124  ...    1.377536    1.488489\n",
       "min       1.000000     1.000000  ...    1.000000    2.000000\n",
       "25%       2.000000     3.000000  ...    5.000000    6.000000\n",
       "50%       3.000000     4.000000  ...    6.000000    7.000000\n",
       "75%       5.000000     6.000000  ...    7.000000    8.000000\n",
       "max       6.000000     7.000000  ...    7.000000    8.000000\n",
       "\n",
       "[8 rows x 10 columns]"
      ]
     },
     "execution_count": 27,
     "metadata": {
      "tags": []
     },
     "output_type": "execute_result"
    }
   ],
   "source": [
    "week_5_6.describe()"
   ]
  },
  {
   "cell_type": "code",
   "execution_count": null,
   "metadata": {
    "colab": {
     "base_uri": "https://localhost:8080/"
    },
    "id": "KPa0JoSugkhx",
    "outputId": "03dabdf5-4212-423a-b700-5b93ab5207b9"
   },
   "outputs": [
    {
     "data": {
      "text/plain": [
       "M5     0.001339\n",
       "T5    -0.010587\n",
       "W5    -0.303412\n",
       "TH5   -0.777279\n",
       "F5    -1.496726\n",
       "M6    -0.039754\n",
       "T6    -0.352240\n",
       "W6    -0.838248\n",
       "TH6   -0.917327\n",
       "F6    -0.904050\n",
       "dtype: float64"
      ]
     },
     "execution_count": 28,
     "metadata": {
      "tags": []
     },
     "output_type": "execute_result"
    }
   ],
   "source": [
    "week_5_6.skew()"
   ]
  },
  {
   "cell_type": "code",
   "execution_count": null,
   "metadata": {
    "colab": {
     "base_uri": "https://localhost:8080/"
    },
    "id": "_y5LPRhZgnSS",
    "outputId": "478b77b3-4dbe-4923-8e5b-9bf866c2b782"
   },
   "outputs": [
    {
     "data": {
      "text/plain": [
       "M5    -1.325567\n",
       "T5    -1.217117\n",
       "W5    -1.098261\n",
       "TH5   -0.294989\n",
       "F5     1.995675\n",
       "M6    -1.275539\n",
       "T6    -1.185389\n",
       "W6    -0.331043\n",
       "TH6    0.137185\n",
       "F6     0.256055\n",
       "dtype: float64"
      ]
     },
     "execution_count": 29,
     "metadata": {
      "tags": []
     },
     "output_type": "execute_result"
    }
   ],
   "source": [
    "week_5_6.kurtosis()"
   ]
  },
  {
   "cell_type": "markdown",
   "metadata": {
    "id": "d4NqCutskdsx"
   },
   "source": [
    "## check the variance \n"
   ]
  },
  {
   "cell_type": "code",
   "execution_count": null,
   "metadata": {
    "colab": {
     "base_uri": "https://localhost:8080/"
    },
    "id": "V1jP_c2hguq4",
    "outputId": "950f87cc-a378-44fc-90e1-11a7d2c259e8"
   },
   "outputs": [
    {
     "data": {
      "text/plain": [
       "M5     3.032533\n",
       "T5     3.129801\n",
       "W5     2.695206\n",
       "TH5    2.048364\n",
       "F5     1.463864\n",
       "M6     2.986202\n",
       "T6     2.361168\n",
       "W6     1.686578\n",
       "TH6    1.897606\n",
       "F6     2.215600\n",
       "dtype: float64"
      ]
     },
     "execution_count": 33,
     "metadata": {
      "tags": []
     },
     "output_type": "execute_result"
    }
   ],
   "source": [
    "week_5_6.var(axis=0,ddof=1)"
   ]
  },
  {
   "cell_type": "code",
   "execution_count": 139,
   "metadata": {
    "colab": {
     "base_uri": "https://localhost:8080/",
     "height": 297
    },
    "id": "fyyHOCizKdUZ",
    "outputId": "6963a7b8-0214-4be3-8ea0-04bad291f64a"
   },
   "outputs": [
    {
     "data": {
      "image/png": "[encoded data removed]",
      "text/plain": [
       "<Figure size 432x288 with 12 Axes>"
      ]
     },
     "metadata": {
      "needs_background": "light",
      "tags": []
     },
     "output_type": "display_data"
    }
   ],
   "source": [
    "week_5_6.hist()\n",
    "\n",
    "plt.tight_layout()"
   ]
  },
  {
   "cell_type": "code",
   "execution_count": 135,
   "metadata": {
    "colab": {
     "base_uri": "https://localhost:8080/",
     "height": 419
    },
    "id": "F7NT6xKGKPUO",
    "outputId": "9b3f88ef-a7be-4b21-f419-d6875b820031"
   },
   "outputs": [
    {
     "name": "stderr",
     "output_type": "stream",
     "text": [
      "/usr/local/lib/python3.6/dist-packages/numpy/core/_asarray.py:83: VisibleDeprecationWarning: Creating an ndarray from ragged nested sequences (which is a list-or-tuple of lists-or-tuples-or ndarrays with different lengths or shapes) is deprecated. If you meant to do this, you must specify 'dtype=object' when creating the ndarray\n",
      "  return array(a, dtype, copy=False, order=order)\n"
     ]
    },
    {
     "data": {
      "text/plain": [
       "(array([ 1,  2,  3,  4,  5,  6,  7,  8,  9, 10]),\n",
       " <a list of 10 Text major ticklabel objects>)"
      ]
     },
     "execution_count": 135,
     "metadata": {
      "tags": []
     },
     "output_type": "execute_result"
    },
    {
     "data": {
      "image/png": "[encoded data removed]",
      "text/plain": [
       "<Figure size 1080x360 with 1 Axes>"
      ]
     },
     "metadata": {
      "needs_background": "light",
      "tags": []
     },
     "output_type": "display_data"
    }
   ],
   "source": [
    "week_5_6.plot.box(figsize=(15,5))\n",
    "\n",
    "plt.xticks(rotation='vertical')"
   ]
  },
  {
   "cell_type": "markdown",
   "metadata": {
    "id": "R_iRl6m5JnC0"
   },
   "source": [
    "### check the sigma for upto  +- 3"
   ]
  },
  {
   "cell_type": "code",
   "execution_count": null,
   "metadata": {
    "colab": {
     "base_uri": "https://localhost:8080/"
    },
    "id": "6cffEEalipt9",
    "outputId": "7f9d41a4-589e-49ba-bcae-5b22d1b05b36"
   },
   "outputs": [
    {
     "name": "stdout",
     "output_type": "stream",
     "text": [
      "value for sigma -3 and 3\n",
      "for -3 ,           for 3\n",
      "For day  M5\n",
      "-1.7742504527245648 8.674250452724564\n",
      "For day  T5\n",
      "-0.9843729101323904 9.63037291013239\n",
      "For day  W5\n",
      "0.14187504159990993 9.99212495840009\n",
      "For day  TH5\n",
      "1.3843675891758984 9.971632410824101\n",
      "For day  F5\n",
      "2.5102927425514263 9.769707257448573\n",
      "For day  M6\n",
      "-1.6139814806879325 8.754396621103073\n",
      "For day  T6\n",
      "-0.34634712563324577 8.873307909946972\n",
      "For day  W6\n",
      "0.9742080692550896 8.766306006632304\n",
      "For day  TH6\n",
      "1.5880549838367246 9.85327154677552\n",
      "For day  F6\n",
      "2.108223467749596 11.039157774637737\n"
     ]
    }
   ],
   "source": [
    "print(\"value for sigma -3 and 3\")\n",
    "print(\"for -3 ,           for 3\")\n",
    "for i in week_5_6.columns:\n",
    "  sigmam_3 = (week_5_6[i].mean() - 3 * week_5_6[i].std())\n",
    "  sigmap_3 =  (week_5_6[i].mean() + 3 * week_5_6[i].std())\n",
    "  print(\"For day \",i)\n",
    "  print(sigmam_3,sigmap_3)\n"
   ]
  },
  {
   "cell_type": "code",
   "execution_count": null,
   "metadata": {
    "colab": {
     "base_uri": "https://localhost:8080/"
    },
    "id": "_SJQK_bKnSjo",
    "outputId": "2c17aa61-9331-4bdb-8639-d20c36ebe6f7"
   },
   "outputs": [
    {
     "name": "stdout",
     "output_type": "stream",
     "text": [
      "value for sigma -2 and 2\n",
      "for -2 ,           for 2\n",
      "For day  M5\n",
      "-0.03283363514970983 6.93283363514971\n",
      "For day  T5\n",
      "0.7847513932450734 7.861248606754927\n",
      "For day  W5\n",
      "1.783583361066607 8.350416638933392\n",
      "For day  TH5\n",
      "2.8155783927839324 8.540421607216068\n",
      "For day  F5\n",
      "3.7201951617009508 8.559804838299048\n",
      "For day  M6\n",
      "0.11408153627723516 7.026333604137905\n",
      "For day  T6\n",
      "1.1902620469634573 7.336698737350268\n",
      "For day  W6\n",
      "2.2728910588179585 7.467623017069435\n",
      "For day  TH6\n",
      "2.965591077659857 8.475735452952387\n",
      "For day  F6\n",
      "3.5967125188976197 9.550668723489713\n"
     ]
    }
   ],
   "source": [
    "print(\"value for sigma -2 and 2\")\n",
    "print(\"for -2 ,           for 2\")\n",
    "for i in week_5_6.columns:\n",
    "  sigmam_3 = (week_5_6[i].mean() - 2 * week_5_6[i].std())\n",
    "  sigmap_3 =  (week_5_6[i].mean() + 2 * week_5_6[i].std())\n",
    "  print(\"For day \",i)\n",
    "  print(sigmam_3,sigmap_3)\n"
   ]
  },
  {
   "cell_type": "code",
   "execution_count": null,
   "metadata": {
    "colab": {
     "base_uri": "https://localhost:8080/"
    },
    "id": "x-r8hc4HpZSx",
    "outputId": "348d7229-41d1-4365-ef0a-d242ead1180c"
   },
   "outputs": [
    {
     "name": "stdout",
     "output_type": "stream",
     "text": [
      "value for sigma -1 and 1\n",
      "for -1 ,           for 1\n",
      "For day  M5\n",
      "1.7085831824251452 5.191416817574855\n",
      "For day  T5\n",
      "2.553875696622537 6.092124303377464\n",
      "For day  W5\n",
      "3.4252916805333036 6.708708319466696\n",
      "For day  TH5\n",
      "4.246789196391966 7.1092108036080335\n",
      "For day  F5\n",
      "4.930097580850475 7.349902419149524\n",
      "For day  M6\n",
      "1.8421445532424028 5.298270587172738\n",
      "For day  T6\n",
      "2.7268712195601603 5.8000895647535655\n",
      "For day  W6\n",
      "3.5715740483808274 6.168940027506566\n",
      "For day  TH6\n",
      "4.3431271714829895 7.0981993591292545\n",
      "For day  F6\n",
      "5.085201570045643 8.06217967234169\n"
     ]
    }
   ],
   "source": [
    "print(\"value for sigma -1 and 1\")\n",
    "print(\"for -1 ,           for 1\")\n",
    "for i in week_5_6.columns:\n",
    "  sigmam_3 = (week_5_6[i].mean() - 1 * week_5_6[i].std())\n",
    "  sigmap_3 =  (week_5_6[i].mean() + 1 * week_5_6[i].std())\n",
    "  print(\"For day \",i)\n",
    "  print(sigmam_3,sigmap_3)\n"
   ]
  },
  {
   "cell_type": "markdown",
   "metadata": {
    "id": "X8R98rupvnKT"
   },
   "source": [
    "### imputing the missing values "
   ]
  },
  {
   "cell_type": "code",
   "execution_count": null,
   "metadata": {
    "colab": {
     "base_uri": "https://localhost:8080/"
    },
    "id": "tGORXSmFpht0",
    "outputId": "ce204b51-cd6e-4118-a3b9-7dd497024ffb"
   },
   "outputs": [
    {
     "name": "stderr",
     "output_type": "stream",
     "text": [
      "/usr/local/lib/python3.6/dist-packages/missingpy/pairwise_external.py:135: FutureWarning: 'warn_on_dtype' is deprecated in version 0.21 and will be removed in 0.23. Don't set `warn_on_dtype` to remove this warning.\n",
      "  warn_on_dtype=warn_on_dtype, estimator=estimator)\n",
      "/usr/local/lib/python3.6/dist-packages/missingpy/pairwise_external.py:138: FutureWarning: 'warn_on_dtype' is deprecated in version 0.21 and will be removed in 0.23. Don't set `warn_on_dtype` to remove this warning.\n",
      "  warn_on_dtype=warn_on_dtype, estimator=estimator)\n"
     ]
    }
   ],
   "source": [
    "#!pip install missingpy\n",
    "from missingpy import KNNImputer\n",
    "imputer = KNNImputer(n_neighbors = 2, weights =\"uniform\")\n",
    "x = imputer.fit_transform(week_5_6)\n"
   ]
  },
  {
   "cell_type": "code",
   "execution_count": null,
   "metadata": {
    "colab": {
     "base_uri": "https://localhost:8080/"
    },
    "id": "WC-lduEouf66",
    "outputId": "14e16d50-1eee-4380-cc5f-2472c780e489"
   },
   "outputs": [
    {
     "data": {
      "text/plain": [
       "Index(['M5', 'T5', 'W5', 'TH5', 'F5', 'M6', 'T6', 'W6', 'TH6', 'F6'], dtype='object')"
      ]
     },
     "execution_count": 58,
     "metadata": {
      "tags": []
     },
     "output_type": "execute_result"
    }
   ],
   "source": [
    "week_5_6.columns"
   ]
  },
  {
   "cell_type": "code",
   "execution_count": null,
   "metadata": {
    "id": "fkjtwii7t2xT"
   },
   "outputs": [],
   "source": [
    "imputed = pd.DataFrame(data = x , columns = ['M5', 'T5', 'W5', 'TH5', 'F5', 'M6', 'T6', 'W6', 'TH6', 'F6'] )\n"
   ]
  },
  {
   "cell_type": "code",
   "execution_count": 100,
   "metadata": {
    "id": "2qqlxUlPuGi2"
   },
   "outputs": [],
   "source": [
    "for i in imputed.columns:\n",
    "  imputed[i] = imputed[i].astype(int)"
   ]
  },
  {
   "cell_type": "code",
   "execution_count": 101,
   "metadata": {
    "colab": {
     "base_uri": "https://localhost:8080/",
     "height": 424
    },
    "id": "lVY8ZYF6vNi4",
    "outputId": "309abb34-08f8-448b-9284-a78126b4e2e7"
   },
   "outputs": [
    {
     "data": {
      "text/html": [
       "<div>\n",
       "<style scoped>\n",
       "    .dataframe tbody tr th:only-of-type {\n",
       "        vertical-align: middle;\n",
       "    }\n",
       "\n",
       "    .dataframe tbody tr th {\n",
       "        vertical-align: top;\n",
       "    }\n",
       "\n",
       "    .dataframe thead th {\n",
       "        text-align: right;\n",
       "    }\n",
       "</style>\n",
       "<table border=\"1\" class=\"dataframe\">\n",
       "  <thead>\n",
       "    <tr style=\"text-align: right;\">\n",
       "      <th></th>\n",
       "      <th>M5</th>\n",
       "      <th>T5</th>\n",
       "      <th>W5</th>\n",
       "      <th>TH5</th>\n",
       "      <th>F5</th>\n",
       "      <th>M6</th>\n",
       "      <th>T6</th>\n",
       "      <th>W6</th>\n",
       "      <th>TH6</th>\n",
       "      <th>F6</th>\n",
       "    </tr>\n",
       "  </thead>\n",
       "  <tbody>\n",
       "    <tr>\n",
       "      <th>0</th>\n",
       "      <td>5</td>\n",
       "      <td>6</td>\n",
       "      <td>7</td>\n",
       "      <td>7</td>\n",
       "      <td>7</td>\n",
       "      <td>4</td>\n",
       "      <td>5</td>\n",
       "      <td>6</td>\n",
       "      <td>7</td>\n",
       "      <td>8</td>\n",
       "    </tr>\n",
       "    <tr>\n",
       "      <th>1</th>\n",
       "      <td>3</td>\n",
       "      <td>4</td>\n",
       "      <td>5</td>\n",
       "      <td>6</td>\n",
       "      <td>7</td>\n",
       "      <td>4</td>\n",
       "      <td>5</td>\n",
       "      <td>6</td>\n",
       "      <td>7</td>\n",
       "      <td>8</td>\n",
       "    </tr>\n",
       "    <tr>\n",
       "      <th>2</th>\n",
       "      <td>3</td>\n",
       "      <td>4</td>\n",
       "      <td>5</td>\n",
       "      <td>6</td>\n",
       "      <td>7</td>\n",
       "      <td>5</td>\n",
       "      <td>5</td>\n",
       "      <td>6</td>\n",
       "      <td>7</td>\n",
       "      <td>8</td>\n",
       "    </tr>\n",
       "    <tr>\n",
       "      <th>3</th>\n",
       "      <td>4</td>\n",
       "      <td>5</td>\n",
       "      <td>6</td>\n",
       "      <td>7</td>\n",
       "      <td>7</td>\n",
       "      <td>2</td>\n",
       "      <td>3</td>\n",
       "      <td>4</td>\n",
       "      <td>5</td>\n",
       "      <td>6</td>\n",
       "    </tr>\n",
       "    <tr>\n",
       "      <th>4</th>\n",
       "      <td>3</td>\n",
       "      <td>4</td>\n",
       "      <td>5</td>\n",
       "      <td>6</td>\n",
       "      <td>7</td>\n",
       "      <td>4</td>\n",
       "      <td>5</td>\n",
       "      <td>6</td>\n",
       "      <td>7</td>\n",
       "      <td>8</td>\n",
       "    </tr>\n",
       "    <tr>\n",
       "      <th>...</th>\n",
       "      <td>...</td>\n",
       "      <td>...</td>\n",
       "      <td>...</td>\n",
       "      <td>...</td>\n",
       "      <td>...</td>\n",
       "      <td>...</td>\n",
       "      <td>...</td>\n",
       "      <td>...</td>\n",
       "      <td>...</td>\n",
       "      <td>...</td>\n",
       "    </tr>\n",
       "    <tr>\n",
       "      <th>995</th>\n",
       "      <td>1</td>\n",
       "      <td>1</td>\n",
       "      <td>2</td>\n",
       "      <td>3</td>\n",
       "      <td>4</td>\n",
       "      <td>6</td>\n",
       "      <td>6</td>\n",
       "      <td>6</td>\n",
       "      <td>7</td>\n",
       "      <td>7</td>\n",
       "    </tr>\n",
       "    <tr>\n",
       "      <th>996</th>\n",
       "      <td>6</td>\n",
       "      <td>7</td>\n",
       "      <td>7</td>\n",
       "      <td>7</td>\n",
       "      <td>7</td>\n",
       "      <td>4</td>\n",
       "      <td>4</td>\n",
       "      <td>4</td>\n",
       "      <td>4</td>\n",
       "      <td>5</td>\n",
       "    </tr>\n",
       "    <tr>\n",
       "      <th>997</th>\n",
       "      <td>5</td>\n",
       "      <td>5</td>\n",
       "      <td>5</td>\n",
       "      <td>6</td>\n",
       "      <td>6</td>\n",
       "      <td>6</td>\n",
       "      <td>6</td>\n",
       "      <td>6</td>\n",
       "      <td>6</td>\n",
       "      <td>7</td>\n",
       "    </tr>\n",
       "    <tr>\n",
       "      <th>998</th>\n",
       "      <td>4</td>\n",
       "      <td>4</td>\n",
       "      <td>4</td>\n",
       "      <td>5</td>\n",
       "      <td>6</td>\n",
       "      <td>3</td>\n",
       "      <td>3</td>\n",
       "      <td>3</td>\n",
       "      <td>3</td>\n",
       "      <td>3</td>\n",
       "    </tr>\n",
       "    <tr>\n",
       "      <th>999</th>\n",
       "      <td>1</td>\n",
       "      <td>2</td>\n",
       "      <td>2</td>\n",
       "      <td>3</td>\n",
       "      <td>4</td>\n",
       "      <td>4</td>\n",
       "      <td>5</td>\n",
       "      <td>4</td>\n",
       "      <td>6</td>\n",
       "      <td>6</td>\n",
       "    </tr>\n",
       "  </tbody>\n",
       "</table>\n",
       "<p>1000 rows × 10 columns</p>\n",
       "</div>"
      ],
      "text/plain": [
       "     M5  T5  W5  TH5  F5  M6  T6  W6  TH6  F6\n",
       "0     5   6   7    7   7   4   5   6    7   8\n",
       "1     3   4   5    6   7   4   5   6    7   8\n",
       "2     3   4   5    6   7   5   5   6    7   8\n",
       "3     4   5   6    7   7   2   3   4    5   6\n",
       "4     3   4   5    6   7   4   5   6    7   8\n",
       "..   ..  ..  ..  ...  ..  ..  ..  ..  ...  ..\n",
       "995   1   1   2    3   4   6   6   6    7   7\n",
       "996   6   7   7    7   7   4   4   4    4   5\n",
       "997   5   5   5    6   6   6   6   6    6   7\n",
       "998   4   4   4    5   6   3   3   3    3   3\n",
       "999   1   2   2    3   4   4   5   4    6   6\n",
       "\n",
       "[1000 rows x 10 columns]"
      ]
     },
     "execution_count": 101,
     "metadata": {
      "tags": []
     },
     "output_type": "execute_result"
    }
   ],
   "source": [
    "imputed"
   ]
  },
  {
   "cell_type": "code",
   "execution_count": 103,
   "metadata": {
    "colab": {
     "base_uri": "https://localhost:8080/"
    },
    "id": "DxI5Ja1FyqhR",
    "outputId": "d39d1f61-2b47-49d7-a823-c57dd2126fd4"
   },
   "outputs": [
    {
     "name": "stdout",
     "output_type": "stream",
     "text": [
      "0.46320000000000006\n"
     ]
    }
   ],
   "source": [
    "from sklearn import metrics\n",
    "print(metrics.mean_absolute_error(df,imputed))"
   ]
  },
  {
   "cell_type": "code",
   "execution_count": 104,
   "metadata": {
    "colab": {
     "base_uri": "https://localhost:8080/"
    },
    "id": "t52kvHPp1ALl",
    "outputId": "ef9f6129-0464-46a0-9260-89627ca23f1f"
   },
   "outputs": [
    {
     "name": "stdout",
     "output_type": "stream",
     "text": [
      "2.5957999999999997\n"
     ]
    }
   ],
   "source": [
    "print(metrics.mean_squared_error(df,imputed))"
   ]
  },
  {
   "cell_type": "code",
   "execution_count": 105,
   "metadata": {
    "colab": {
     "base_uri": "https://localhost:8080/"
    },
    "id": "wOmS0kcPA8zi",
    "outputId": "912e0357-5605-4aba-c4f0-40b3cee2f1f8"
   },
   "outputs": [
    {
     "name": "stdout",
     "output_type": "stream",
     "text": [
      "1.6111486585663037\n"
     ]
    }
   ],
   "source": [
    "print(np.sqrt(metrics.mean_squared_error(df,imputed)))"
   ]
  },
  {
   "cell_type": "code",
   "execution_count": 106,
   "metadata": {
    "colab": {
     "base_uri": "https://localhost:8080/"
    },
    "id": "QV09HHvZBIoz",
    "outputId": "9888aa4c-260d-4476-c408-913e8091c9f5"
   },
   "outputs": [
    {
     "data": {
      "text/plain": [
       "0.5767121174597585"
      ]
     },
     "execution_count": 106,
     "metadata": {
      "tags": []
     },
     "output_type": "execute_result"
    }
   ],
   "source": [
    "from sklearn.metrics import r2_score\n",
    "r2_score(df, imputed)\n"
   ]
  },
  {
   "cell_type": "code",
   "execution_count": 109,
   "metadata": {
    "colab": {
     "base_uri": "https://localhost:8080/",
     "height": 444
    },
    "id": "8ZrjACm3BYb_",
    "outputId": "db2c6833-241f-4aa3-94b0-076ee3cfacc0"
   },
   "outputs": [
    {
     "data": {
      "text/html": [
       "<div>\n",
       "<style scoped>\n",
       "    .dataframe tbody tr th:only-of-type {\n",
       "        vertical-align: middle;\n",
       "    }\n",
       "\n",
       "    .dataframe tbody tr th {\n",
       "        vertical-align: top;\n",
       "    }\n",
       "\n",
       "    .dataframe thead th {\n",
       "        text-align: right;\n",
       "    }\n",
       "</style>\n",
       "<table border=\"1\" class=\"dataframe\">\n",
       "  <thead>\n",
       "    <tr style=\"text-align: right;\">\n",
       "      <th></th>\n",
       "      <th>Student</th>\n",
       "      <th>M1</th>\n",
       "      <th>T1</th>\n",
       "      <th>W1</th>\n",
       "      <th>TH1</th>\n",
       "      <th>F1</th>\n",
       "      <th>M2</th>\n",
       "      <th>T2</th>\n",
       "      <th>W2</th>\n",
       "      <th>TH2</th>\n",
       "      <th>F2</th>\n",
       "      <th>M3</th>\n",
       "      <th>T3</th>\n",
       "      <th>W3</th>\n",
       "      <th>TH3</th>\n",
       "      <th>F3</th>\n",
       "      <th>M4</th>\n",
       "      <th>T4</th>\n",
       "      <th>W4</th>\n",
       "      <th>TH4</th>\n",
       "      <th>F4</th>\n",
       "      <th>M5</th>\n",
       "      <th>T5</th>\n",
       "      <th>W5</th>\n",
       "      <th>TH5</th>\n",
       "      <th>F5</th>\n",
       "      <th>M6</th>\n",
       "      <th>T6</th>\n",
       "      <th>W6</th>\n",
       "      <th>TH6</th>\n",
       "      <th>F6</th>\n",
       "    </tr>\n",
       "  </thead>\n",
       "  <tbody>\n",
       "    <tr>\n",
       "      <th>0</th>\n",
       "      <td>1</td>\n",
       "      <td>4</td>\n",
       "      <td>5</td>\n",
       "      <td>5</td>\n",
       "      <td>6</td>\n",
       "      <td>7</td>\n",
       "      <td>1</td>\n",
       "      <td>2</td>\n",
       "      <td>3</td>\n",
       "      <td>4</td>\n",
       "      <td>5</td>\n",
       "      <td>3</td>\n",
       "      <td>4</td>\n",
       "      <td>5</td>\n",
       "      <td>6</td>\n",
       "      <td>7</td>\n",
       "      <td>4</td>\n",
       "      <td>5</td>\n",
       "      <td>6</td>\n",
       "      <td>7</td>\n",
       "      <td>7</td>\n",
       "      <td>5</td>\n",
       "      <td>6</td>\n",
       "      <td>7</td>\n",
       "      <td>7</td>\n",
       "      <td>7</td>\n",
       "      <td>4</td>\n",
       "      <td>5</td>\n",
       "      <td>6</td>\n",
       "      <td>7</td>\n",
       "      <td>8</td>\n",
       "    </tr>\n",
       "    <tr>\n",
       "      <th>1</th>\n",
       "      <td>2</td>\n",
       "      <td>1</td>\n",
       "      <td>2</td>\n",
       "      <td>3</td>\n",
       "      <td>4</td>\n",
       "      <td>5</td>\n",
       "      <td>5</td>\n",
       "      <td>5</td>\n",
       "      <td>6</td>\n",
       "      <td>6</td>\n",
       "      <td>7</td>\n",
       "      <td>3</td>\n",
       "      <td>4</td>\n",
       "      <td>5</td>\n",
       "      <td>6</td>\n",
       "      <td>7</td>\n",
       "      <td>6</td>\n",
       "      <td>6</td>\n",
       "      <td>7</td>\n",
       "      <td>7</td>\n",
       "      <td>7</td>\n",
       "      <td>3</td>\n",
       "      <td>4</td>\n",
       "      <td>5</td>\n",
       "      <td>6</td>\n",
       "      <td>7</td>\n",
       "      <td>4</td>\n",
       "      <td>5</td>\n",
       "      <td>6</td>\n",
       "      <td>7</td>\n",
       "      <td>8</td>\n",
       "    </tr>\n",
       "    <tr>\n",
       "      <th>2</th>\n",
       "      <td>3</td>\n",
       "      <td>3</td>\n",
       "      <td>4</td>\n",
       "      <td>5</td>\n",
       "      <td>6</td>\n",
       "      <td>7</td>\n",
       "      <td>2</td>\n",
       "      <td>3</td>\n",
       "      <td>4</td>\n",
       "      <td>5</td>\n",
       "      <td>6</td>\n",
       "      <td>5</td>\n",
       "      <td>6</td>\n",
       "      <td>6</td>\n",
       "      <td>7</td>\n",
       "      <td>7</td>\n",
       "      <td>2</td>\n",
       "      <td>3</td>\n",
       "      <td>4</td>\n",
       "      <td>5</td>\n",
       "      <td>6</td>\n",
       "      <td>3</td>\n",
       "      <td>4</td>\n",
       "      <td>5</td>\n",
       "      <td>6</td>\n",
       "      <td>7</td>\n",
       "      <td>5</td>\n",
       "      <td>5</td>\n",
       "      <td>6</td>\n",
       "      <td>7</td>\n",
       "      <td>8</td>\n",
       "    </tr>\n",
       "    <tr>\n",
       "      <th>3</th>\n",
       "      <td>4</td>\n",
       "      <td>1</td>\n",
       "      <td>2</td>\n",
       "      <td>3</td>\n",
       "      <td>4</td>\n",
       "      <td>5</td>\n",
       "      <td>1</td>\n",
       "      <td>2</td>\n",
       "      <td>3</td>\n",
       "      <td>4</td>\n",
       "      <td>5</td>\n",
       "      <td>1</td>\n",
       "      <td>2</td>\n",
       "      <td>3</td>\n",
       "      <td>4</td>\n",
       "      <td>5</td>\n",
       "      <td>4</td>\n",
       "      <td>5</td>\n",
       "      <td>6</td>\n",
       "      <td>7</td>\n",
       "      <td>7</td>\n",
       "      <td>4</td>\n",
       "      <td>5</td>\n",
       "      <td>6</td>\n",
       "      <td>7</td>\n",
       "      <td>7</td>\n",
       "      <td>2</td>\n",
       "      <td>3</td>\n",
       "      <td>4</td>\n",
       "      <td>5</td>\n",
       "      <td>6</td>\n",
       "    </tr>\n",
       "    <tr>\n",
       "      <th>4</th>\n",
       "      <td>5</td>\n",
       "      <td>2</td>\n",
       "      <td>3</td>\n",
       "      <td>4</td>\n",
       "      <td>5</td>\n",
       "      <td>6</td>\n",
       "      <td>5</td>\n",
       "      <td>5</td>\n",
       "      <td>6</td>\n",
       "      <td>6</td>\n",
       "      <td>7</td>\n",
       "      <td>5</td>\n",
       "      <td>6</td>\n",
       "      <td>6</td>\n",
       "      <td>7</td>\n",
       "      <td>7</td>\n",
       "      <td>4</td>\n",
       "      <td>5</td>\n",
       "      <td>6</td>\n",
       "      <td>7</td>\n",
       "      <td>7</td>\n",
       "      <td>3</td>\n",
       "      <td>4</td>\n",
       "      <td>5</td>\n",
       "      <td>6</td>\n",
       "      <td>7</td>\n",
       "      <td>4</td>\n",
       "      <td>5</td>\n",
       "      <td>6</td>\n",
       "      <td>7</td>\n",
       "      <td>8</td>\n",
       "    </tr>\n",
       "    <tr>\n",
       "      <th>...</th>\n",
       "      <td>...</td>\n",
       "      <td>...</td>\n",
       "      <td>...</td>\n",
       "      <td>...</td>\n",
       "      <td>...</td>\n",
       "      <td>...</td>\n",
       "      <td>...</td>\n",
       "      <td>...</td>\n",
       "      <td>...</td>\n",
       "      <td>...</td>\n",
       "      <td>...</td>\n",
       "      <td>...</td>\n",
       "      <td>...</td>\n",
       "      <td>...</td>\n",
       "      <td>...</td>\n",
       "      <td>...</td>\n",
       "      <td>...</td>\n",
       "      <td>...</td>\n",
       "      <td>...</td>\n",
       "      <td>...</td>\n",
       "      <td>...</td>\n",
       "      <td>...</td>\n",
       "      <td>...</td>\n",
       "      <td>...</td>\n",
       "      <td>...</td>\n",
       "      <td>...</td>\n",
       "      <td>...</td>\n",
       "      <td>...</td>\n",
       "      <td>...</td>\n",
       "      <td>...</td>\n",
       "      <td>...</td>\n",
       "    </tr>\n",
       "    <tr>\n",
       "      <th>995</th>\n",
       "      <td>996</td>\n",
       "      <td>2</td>\n",
       "      <td>3</td>\n",
       "      <td>4</td>\n",
       "      <td>5</td>\n",
       "      <td>5</td>\n",
       "      <td>1</td>\n",
       "      <td>2</td>\n",
       "      <td>3</td>\n",
       "      <td>3</td>\n",
       "      <td>3</td>\n",
       "      <td>5</td>\n",
       "      <td>6</td>\n",
       "      <td>6</td>\n",
       "      <td>6</td>\n",
       "      <td>6</td>\n",
       "      <td>6</td>\n",
       "      <td>6</td>\n",
       "      <td>6</td>\n",
       "      <td>7</td>\n",
       "      <td>7</td>\n",
       "      <td>1</td>\n",
       "      <td>1</td>\n",
       "      <td>2</td>\n",
       "      <td>3</td>\n",
       "      <td>4</td>\n",
       "      <td>6</td>\n",
       "      <td>6</td>\n",
       "      <td>6</td>\n",
       "      <td>7</td>\n",
       "      <td>7</td>\n",
       "    </tr>\n",
       "    <tr>\n",
       "      <th>996</th>\n",
       "      <td>997</td>\n",
       "      <td>5</td>\n",
       "      <td>5</td>\n",
       "      <td>5</td>\n",
       "      <td>5</td>\n",
       "      <td>7</td>\n",
       "      <td>2</td>\n",
       "      <td>2</td>\n",
       "      <td>3</td>\n",
       "      <td>4</td>\n",
       "      <td>5</td>\n",
       "      <td>1</td>\n",
       "      <td>1</td>\n",
       "      <td>2</td>\n",
       "      <td>2</td>\n",
       "      <td>3</td>\n",
       "      <td>5</td>\n",
       "      <td>5</td>\n",
       "      <td>5</td>\n",
       "      <td>6</td>\n",
       "      <td>7</td>\n",
       "      <td>6</td>\n",
       "      <td>7</td>\n",
       "      <td>7</td>\n",
       "      <td>7</td>\n",
       "      <td>7</td>\n",
       "      <td>4</td>\n",
       "      <td>4</td>\n",
       "      <td>4</td>\n",
       "      <td>4</td>\n",
       "      <td>5</td>\n",
       "    </tr>\n",
       "    <tr>\n",
       "      <th>997</th>\n",
       "      <td>998</td>\n",
       "      <td>1</td>\n",
       "      <td>1</td>\n",
       "      <td>1</td>\n",
       "      <td>2</td>\n",
       "      <td>3</td>\n",
       "      <td>4</td>\n",
       "      <td>4</td>\n",
       "      <td>4</td>\n",
       "      <td>5</td>\n",
       "      <td>5</td>\n",
       "      <td>4</td>\n",
       "      <td>4</td>\n",
       "      <td>4</td>\n",
       "      <td>5</td>\n",
       "      <td>5</td>\n",
       "      <td>5</td>\n",
       "      <td>5</td>\n",
       "      <td>5</td>\n",
       "      <td>5</td>\n",
       "      <td>5</td>\n",
       "      <td>5</td>\n",
       "      <td>5</td>\n",
       "      <td>5</td>\n",
       "      <td>6</td>\n",
       "      <td>6</td>\n",
       "      <td>6</td>\n",
       "      <td>6</td>\n",
       "      <td>6</td>\n",
       "      <td>6</td>\n",
       "      <td>7</td>\n",
       "    </tr>\n",
       "    <tr>\n",
       "      <th>998</th>\n",
       "      <td>999</td>\n",
       "      <td>1</td>\n",
       "      <td>1</td>\n",
       "      <td>2</td>\n",
       "      <td>2</td>\n",
       "      <td>3</td>\n",
       "      <td>1</td>\n",
       "      <td>1</td>\n",
       "      <td>2</td>\n",
       "      <td>2</td>\n",
       "      <td>2</td>\n",
       "      <td>5</td>\n",
       "      <td>6</td>\n",
       "      <td>6</td>\n",
       "      <td>7</td>\n",
       "      <td>7</td>\n",
       "      <td>3</td>\n",
       "      <td>3</td>\n",
       "      <td>3</td>\n",
       "      <td>4</td>\n",
       "      <td>5</td>\n",
       "      <td>4</td>\n",
       "      <td>4</td>\n",
       "      <td>4</td>\n",
       "      <td>5</td>\n",
       "      <td>6</td>\n",
       "      <td>3</td>\n",
       "      <td>3</td>\n",
       "      <td>3</td>\n",
       "      <td>3</td>\n",
       "      <td>3</td>\n",
       "    </tr>\n",
       "    <tr>\n",
       "      <th>999</th>\n",
       "      <td>1000</td>\n",
       "      <td>2</td>\n",
       "      <td>2</td>\n",
       "      <td>2</td>\n",
       "      <td>2</td>\n",
       "      <td>3</td>\n",
       "      <td>2</td>\n",
       "      <td>2</td>\n",
       "      <td>3</td>\n",
       "      <td>4</td>\n",
       "      <td>4</td>\n",
       "      <td>1</td>\n",
       "      <td>2</td>\n",
       "      <td>2</td>\n",
       "      <td>2</td>\n",
       "      <td>3</td>\n",
       "      <td>1</td>\n",
       "      <td>1</td>\n",
       "      <td>2</td>\n",
       "      <td>2</td>\n",
       "      <td>2</td>\n",
       "      <td>1</td>\n",
       "      <td>2</td>\n",
       "      <td>2</td>\n",
       "      <td>3</td>\n",
       "      <td>4</td>\n",
       "      <td>4</td>\n",
       "      <td>5</td>\n",
       "      <td>4</td>\n",
       "      <td>6</td>\n",
       "      <td>6</td>\n",
       "    </tr>\n",
       "  </tbody>\n",
       "</table>\n",
       "<p>1000 rows × 31 columns</p>\n",
       "</div>"
      ],
      "text/plain": [
       "     Student  M1  T1  W1  TH1  F1  M2  T2  ...  W5  TH5  F5  M6  T6  W6  TH6  F6\n",
       "0          1   4   5   5    6   7   1   2  ...   7    7   7   4   5   6    7   8\n",
       "1          2   1   2   3    4   5   5   5  ...   5    6   7   4   5   6    7   8\n",
       "2          3   3   4   5    6   7   2   3  ...   5    6   7   5   5   6    7   8\n",
       "3          4   1   2   3    4   5   1   2  ...   6    7   7   2   3   4    5   6\n",
       "4          5   2   3   4    5   6   5   5  ...   5    6   7   4   5   6    7   8\n",
       "..       ...  ..  ..  ..  ...  ..  ..  ..  ...  ..  ...  ..  ..  ..  ..  ...  ..\n",
       "995      996   2   3   4    5   5   1   2  ...   2    3   4   6   6   6    7   7\n",
       "996      997   5   5   5    5   7   2   2  ...   7    7   7   4   4   4    4   5\n",
       "997      998   1   1   1    2   3   4   4  ...   5    6   6   6   6   6    6   7\n",
       "998      999   1   1   2    2   3   1   1  ...   4    5   6   3   3   3    3   3\n",
       "999     1000   2   2   2    2   3   2   2  ...   2    3   4   4   5   4    6   6\n",
       "\n",
       "[1000 rows x 31 columns]"
      ]
     },
     "execution_count": 109,
     "metadata": {
      "tags": []
     },
     "output_type": "execute_result"
    }
   ],
   "source": [
    "data_imputed = week_1_4.join(imputed)\n",
    "data_imputed"
   ]
  },
  {
   "cell_type": "code",
   "execution_count": 112,
   "metadata": {
    "id": "SJkRa8luE7Vz"
   },
   "outputs": [],
   "source": [
    "week_6_imputed = imputed[imputed.columns[5:10]]\n",
    "week_6 = week_5_6[week_5_6.columns[5:10]]"
   ]
  },
  {
   "cell_type": "markdown",
   "metadata": {
    "id": "mWuK8sBZHKwD"
   },
   "source": [
    "### comparing the predicted values"
   ]
  },
  {
   "cell_type": "code",
   "execution_count": 113,
   "metadata": {
    "id": "-tyYZ4b5FYq_"
   },
   "outputs": [],
   "source": [
    "def accuracy(y_test, y_preds):\n",
    "    \n",
    "    \n",
    "    total_correct = 0\n",
    "    for i in range(len(y_test)):\n",
    "        if int(y_test[i]) == int(y_preds[i]):\n",
    "            total_correct += 1\n",
    "    acc = total_correct/len(y_test)\n",
    "    return acc"
   ]
  },
  {
   "cell_type": "code",
   "execution_count": 115,
   "metadata": {
    "colab": {
     "base_uri": "https://localhost:8080/"
    },
    "id": "jAlDMYvPFybQ",
    "outputId": "c6801122-f3f7-4240-8fdc-017c0e0d2dc3"
   },
   "outputs": [
    {
     "name": "stdout",
     "output_type": "stream",
     "text": [
      "Model accuracy of week 4 data with previous weeks 5 data : \n",
      "Mon 39.1\n",
      "Tues 18.5\n",
      "Wed 18.2\n",
      "Thus 23.200000000000003\n",
      "Fri 30.3\n"
     ]
    }
   ],
   "source": [
    "data_p = data_imputed.values\n",
    "days = [\"Mon\",\"Tues\",\"Wed\",\"Thus\",\"Fri\"]\n",
    "week_5_w4 = []\n",
    "print(\"Model accuracy of week 4 data with previous weeks 5 data : \")\n",
    "for i in range(5):\n",
    "  X =data_p[:,i+15]\n",
    "  y =  data_p[:,i+20]\n",
    "  acc = accuracy(y, X)\n",
    "  week_5_w4.append(acc)\n",
    "  print(days[i], acc*100)"
   ]
  },
  {
   "cell_type": "code",
   "execution_count": 117,
   "metadata": {
    "colab": {
     "base_uri": "https://localhost:8080/"
    },
    "id": "GDpn8u4QGL4X",
    "outputId": "8a2e652b-171a-4ea9-90d6-9baad70b3706"
   },
   "outputs": [
    {
     "name": "stdout",
     "output_type": "stream",
     "text": [
      "Model accuracy of Imputed missing data with previous weeks data : \n",
      "Mon 42.8\n",
      "Tues 17.0\n",
      "Wed 17.9\n",
      "Thus 16.2\n",
      "Fri 29.099999999999998\n"
     ]
    }
   ],
   "source": [
    "data_p = data_imputed.values\n",
    "days = [\"Mon\",\"Tues\",\"Wed\",\"Thus\",\"Fri\"]\n",
    "week_5_w6 = []\n",
    "print(\"Model accuracy of Imputed missing data with previous weeks data : \")\n",
    "for i in range(5):\n",
    "  X =data_p[:,i+20]\n",
    "  y =  data_p[:,i+25]\n",
    "  acc = accuracy(y, X)\n",
    "  week_5_w6.append(acc)\n",
    "  print(days[i], acc*100)"
   ]
  },
  {
   "cell_type": "code",
   "execution_count": 122,
   "metadata": {
    "colab": {
     "base_uri": "https://localhost:8080/"
    },
    "id": "EjCv_12XGkCg",
    "outputId": "b60f4567-ab71-4f41-a949-420c9ef2724b"
   },
   "outputs": [
    {
     "name": "stdout",
     "output_type": "stream",
     "text": [
      "The accuracy percenntage of our imputed value is : 61.951219512195124\n"
     ]
    }
   ],
   "source": [
    "from statistics import mean\n",
    "\n",
    "per = (mean(week_5_w4)/mean(week_5_w6))*100\n",
    "\n",
    "print(\"The accuracy percenntage of our imputed value is :\",per)"
   ]
  },
  {
   "cell_type": "markdown",
   "metadata": {
    "id": "FOLKOAGVHTIu"
   },
   "source": [
    "### Plotting the missing data and imputed data"
   ]
  },
  {
   "cell_type": "code",
   "execution_count": 124,
   "metadata": {
    "colab": {
     "base_uri": "https://localhost:8080/",
     "height": 273
    },
    "id": "i8jWy4TgHPF9",
    "outputId": "fdefd530-77e1-4d82-fa45-c09f1ea3d296"
   },
   "outputs": [
    {
     "data": {
      "text/plain": [
       "(array([1, 2, 3, 4, 5]), <a list of 5 Text major ticklabel objects>)"
      ]
     },
     "execution_count": 124,
     "metadata": {
      "tags": []
     },
     "output_type": "execute_result"
    },
    {
     "data": {
      "image/png": "[encoded data removed]",
      "text/plain": [
       "<Figure size 1440x360 with 1 Axes>"
      ]
     },
     "metadata": {
      "needs_background": "light",
      "tags": []
     },
     "output_type": "display_data"
    }
   ],
   "source": [
    "from matplotlib import pyplot as plt\n",
    "week_6_imputed.plot.box(figsize=(20,5))\n",
    "\n",
    "plt.xticks(rotation='vertical')"
   ]
  },
  {
   "cell_type": "code",
   "execution_count": 125,
   "metadata": {
    "colab": {
     "base_uri": "https://localhost:8080/",
     "height": 328
    },
    "id": "4MXTJb0jGypL",
    "outputId": "6346ae7d-be59-46b5-94f2-ba80731060b8"
   },
   "outputs": [
    {
     "name": "stderr",
     "output_type": "stream",
     "text": [
      "/usr/local/lib/python3.6/dist-packages/numpy/core/_asarray.py:83: VisibleDeprecationWarning: Creating an ndarray from ragged nested sequences (which is a list-or-tuple of lists-or-tuples-or ndarrays with different lengths or shapes) is deprecated. If you meant to do this, you must specify 'dtype=object' when creating the ndarray\n",
      "  return array(a, dtype, copy=False, order=order)\n"
     ]
    },
    {
     "data": {
      "text/plain": [
       "(array([1, 2, 3, 4, 5]), <a list of 5 Text major ticklabel objects>)"
      ]
     },
     "execution_count": 125,
     "metadata": {
      "tags": []
     },
     "output_type": "execute_result"
    },
    {
     "data": {
      "image/png": "[encoded data removed]",
      "text/plain": [
       "<Figure size 1440x360 with 1 Axes>"
      ]
     },
     "metadata": {
      "needs_background": "light",
      "tags": []
     },
     "output_type": "display_data"
    }
   ],
   "source": [
    "week_6.plot.box(figsize=(20,5))\n",
    "\n",
    "plt.xticks(rotation='vertical')"
   ]
  },
  {
   "cell_type": "code",
   "execution_count": 126,
   "metadata": {
    "colab": {
     "base_uri": "https://localhost:8080/",
     "height": 297
    },
    "id": "q4SFxYwdH5_-",
    "outputId": "7706fca2-4e5b-46cf-ef8c-698525b44df2"
   },
   "outputs": [
    {
     "data": {
      "image/png": "[encoded data removed]",
      "text/plain": [
       "<Figure size 432x288 with 6 Axes>"
      ]
     },
     "metadata": {
      "needs_background": "light",
      "tags": []
     },
     "output_type": "display_data"
    }
   ],
   "source": [
    "week_6_imputed.hist()\n",
    "\n",
    "plt.tight_layout()"
   ]
  },
  {
   "cell_type": "code",
   "execution_count": 127,
   "metadata": {
    "colab": {
     "base_uri": "https://localhost:8080/",
     "height": 297
    },
    "id": "OopdPgwKIVY3",
    "outputId": "e3f8a339-415c-4135-bd1e-0acaf03c7602"
   },
   "outputs": [
    {
     "data": {
      "image/png": "[encoded data removed]",
      "text/plain": [
       "<Figure size 432x288 with 6 Axes>"
      ]
     },
     "metadata": {
      "needs_background": "light",
      "tags": []
     },
     "output_type": "display_data"
    }
   ],
   "source": [
    "week_6.hist()\n",
    "\n",
    "plt.tight_layout()"
   ]
  },
  {
   "cell_type": "code",
   "execution_count": 143,
   "metadata": {
    "colab": {
     "base_uri": "https://localhost:8080/"
    },
    "id": "0--ikH-vIpx9",
    "outputId": "e78865c4-324a-49c4-bbe0-3759bcda3d7b"
   },
   "outputs": [
    {
     "name": "stdout",
     "output_type": "stream",
     "text": [
      "M6    -0.039754\n",
      "T6    -0.352240\n",
      "W6    -0.838248\n",
      "TH6   -0.917327\n",
      "F6    -0.904050\n",
      "dtype: float64 \n",
      " M6    -0.002250\n",
      "T6    -0.298525\n",
      "W6    -0.775548\n",
      "TH6   -0.889151\n",
      "F6    -0.949342\n",
      "dtype: float64\n"
     ]
    }
   ],
   "source": [
    "print(week_6.skew(),\"\\n\",week_6_imputed.skew())"
   ]
  },
  {
   "cell_type": "code",
   "execution_count": 141,
   "metadata": {
    "colab": {
     "base_uri": "https://localhost:8080/"
    },
    "id": "08U1Bpc9I8Wr",
    "outputId": "39ae97bb-33ea-4dcb-d89c-853f27b3ea67"
   },
   "outputs": [
    {
     "name": "stdout",
     "output_type": "stream",
     "text": [
      "M6    -1.275539\n",
      "T6    -1.185389\n",
      "W6    -0.331043\n",
      "TH6    0.137185\n",
      "F6     0.256055\n",
      "dtype: float64 \n",
      " M6    -1.227697\n",
      "T6    -1.195150\n",
      "W6    -0.476038\n",
      "TH6    0.067626\n",
      "F6     0.344653\n",
      "dtype: float64\n"
     ]
    }
   ],
   "source": [
    "print(week_6.kurtosis(),\"\\n\", week_6_imputed.kurtosis())"
   ]
  },
  {
   "cell_type": "code",
   "execution_count": 132,
   "metadata": {
    "colab": {
     "base_uri": "https://localhost:8080/"
    },
    "id": "azwiRipiIYco",
    "outputId": "b3ec35bc-eb1d-4923-b75b-6551038e2dd1"
   },
   "outputs": [
    {
     "name": "stdout",
     "output_type": "stream",
     "text": [
      "value for sigma -3 and 3\n",
      "for -3 ,           for 3\n",
      "For day  M6\n",
      "-1.5590241151102835 8.589024115110284\n",
      "For day  T6\n",
      "-0.29402498399668797 8.724024983996689\n",
      "For day  W6\n",
      "0.9463062200425099 8.73569377995749\n",
      "For day  TH6\n",
      "1.615947948278019 9.824052051721981\n",
      "For day  F6\n",
      "2.1318820959219327 11.078117904078068\n"
     ]
    }
   ],
   "source": [
    "print(\"value for sigma -3 and 3\")\n",
    "print(\"for -3 ,           for 3\")\n",
    "for i in week_6_imputed.columns:\n",
    "  sigmam_3 = (week_6_imputed[i].mean() - 3 * week_6_imputed[i].std())\n",
    "  sigmap_3 =  (week_6_imputed[i].mean() + 3 * week_6_imputed[i].std())\n",
    "  print(\"For day \",i)\n",
    "  print(sigmam_3,sigmap_3)"
   ]
  },
  {
   "cell_type": "code",
   "execution_count": 133,
   "metadata": {
    "colab": {
     "base_uri": "https://localhost:8080/"
    },
    "id": "KqqX-PmHJHQl",
    "outputId": "6d5fb557-98d7-42cd-cbe0-94b3b1816375"
   },
   "outputs": [
    {
     "name": "stdout",
     "output_type": "stream",
     "text": [
      "value for sigma -2 and 2\n",
      "for -2 ,           for 2\n",
      "For day  M6\n",
      "0.13231725659314453 6.897682743406856\n",
      "For day  T6\n",
      "1.208983344002208 7.221016655997792\n",
      "For day  W6\n",
      "2.24453748002834 7.43746251997166\n",
      "For day  TH6\n",
      "2.9839652988520124 8.456034701147987\n",
      "For day  F6\n",
      "3.6229213972812886 9.587078602718712\n"
     ]
    }
   ],
   "source": [
    "print(\"value for sigma -2 and 2\")\n",
    "print(\"for -2 ,           for 2\")\n",
    "for i in week_6_imputed.columns:\n",
    "  sigmam_3 = (week_6_imputed[i].mean() - 2 * week_6_imputed[i].std())\n",
    "  sigmap_3 =  (week_6_imputed[i].mean() + 2 * week_6_imputed[i].std())\n",
    "  print(\"For day \",i)\n",
    "  print(sigmam_3,sigmap_3)"
   ]
  },
  {
   "cell_type": "code",
   "execution_count": 134,
   "metadata": {
    "colab": {
     "base_uri": "https://localhost:8080/"
    },
    "id": "n--lnsvNJZ2l",
    "outputId": "02a43037-3bfd-4753-8a73-2280fdbbb7e4"
   },
   "outputs": [
    {
     "name": "stdout",
     "output_type": "stream",
     "text": [
      "value for sigma -1 and 1\n",
      "for -1 ,           for 1\n",
      "For day  M6\n",
      "1.8236586282965723 5.206341371703428\n",
      "For day  T6\n",
      "2.711991672001104 5.718008327998896\n",
      "For day  W6\n",
      "3.54276874001417 6.139231259985831\n",
      "For day  TH6\n",
      "4.351982649426006 7.088017350573994\n",
      "For day  F6\n",
      "5.1139606986406445 8.096039301359356\n"
     ]
    }
   ],
   "source": [
    "print(\"value for sigma -1 and 1\")\n",
    "print(\"for -1 ,           for 1\")\n",
    "for i in week_6_imputed.columns:\n",
    "  sigmam_3 = (week_6_imputed[i].mean() - 1 * week_6_imputed[i].std())\n",
    "  sigmap_3 =  (week_6_imputed[i].mean() + 1 * week_6_imputed[i].std())\n",
    "  print(\"For day \",i)\n",
    "  print(sigmam_3,sigmap_3)"
   ]
  },
  {
   "cell_type": "code",
   "execution_count": 144,
   "metadata": {
    "id": "WiLTd4H9JfHQ"
   },
   "outputs": [],
   "source": [
    "dt = data_imputed.transpose()"
   ]
  },
  {
   "cell_type": "code",
   "execution_count": 145,
   "metadata": {
    "id": "91-6Ej4jLym-"
   },
   "outputs": [],
   "source": [
    "dt.to_csv(\"/content/drive/MyDrive/dowell/week 6/week_6transpose.csv\")"
   ]
  },
  {
   "cell_type": "code",
   "execution_count": 204,
   "metadata": {
    "colab": {
     "base_uri": "https://localhost:8080/",
     "height": 273
    },
    "id": "00EkzZGGL_bn",
    "outputId": "2cf7401f-f27c-4489-b8d0-e5deb46bb90a"
   },
   "outputs": [
    {
     "name": "stdout",
     "output_type": "stream",
     "text": [
      "(30, 1001)\n"
     ]
    },
    {
     "data": {
      "text/html": [
       "<div>\n",
       "<style scoped>\n",
       "    .dataframe tbody tr th:only-of-type {\n",
       "        vertical-align: middle;\n",
       "    }\n",
       "\n",
       "    .dataframe tbody tr th {\n",
       "        vertical-align: top;\n",
       "    }\n",
       "\n",
       "    .dataframe thead th {\n",
       "        text-align: right;\n",
       "    }\n",
       "</style>\n",
       "<table border=\"1\" class=\"dataframe\">\n",
       "  <thead>\n",
       "    <tr style=\"text-align: right;\">\n",
       "      <th></th>\n",
       "      <th>Days</th>\n",
       "      <th>1</th>\n",
       "      <th>2</th>\n",
       "      <th>3</th>\n",
       "      <th>4</th>\n",
       "      <th>5</th>\n",
       "      <th>6</th>\n",
       "      <th>7</th>\n",
       "      <th>8</th>\n",
       "      <th>9</th>\n",
       "      <th>10</th>\n",
       "      <th>11</th>\n",
       "      <th>12</th>\n",
       "      <th>13</th>\n",
       "      <th>14</th>\n",
       "      <th>15</th>\n",
       "      <th>16</th>\n",
       "      <th>17</th>\n",
       "      <th>18</th>\n",
       "      <th>19</th>\n",
       "      <th>20</th>\n",
       "      <th>21</th>\n",
       "      <th>22</th>\n",
       "      <th>23</th>\n",
       "      <th>24</th>\n",
       "      <th>25</th>\n",
       "      <th>26</th>\n",
       "      <th>27</th>\n",
       "      <th>28</th>\n",
       "      <th>29</th>\n",
       "      <th>30</th>\n",
       "      <th>31</th>\n",
       "      <th>32</th>\n",
       "      <th>33</th>\n",
       "      <th>34</th>\n",
       "      <th>35</th>\n",
       "      <th>36</th>\n",
       "      <th>37</th>\n",
       "      <th>38</th>\n",
       "      <th>39</th>\n",
       "      <th>...</th>\n",
       "      <th>961</th>\n",
       "      <th>962</th>\n",
       "      <th>963</th>\n",
       "      <th>964</th>\n",
       "      <th>965</th>\n",
       "      <th>966</th>\n",
       "      <th>967</th>\n",
       "      <th>968</th>\n",
       "      <th>969</th>\n",
       "      <th>970</th>\n",
       "      <th>971</th>\n",
       "      <th>972</th>\n",
       "      <th>973</th>\n",
       "      <th>974</th>\n",
       "      <th>975</th>\n",
       "      <th>976</th>\n",
       "      <th>977</th>\n",
       "      <th>978</th>\n",
       "      <th>979</th>\n",
       "      <th>980</th>\n",
       "      <th>981</th>\n",
       "      <th>982</th>\n",
       "      <th>983</th>\n",
       "      <th>984</th>\n",
       "      <th>985</th>\n",
       "      <th>986</th>\n",
       "      <th>987</th>\n",
       "      <th>988</th>\n",
       "      <th>989</th>\n",
       "      <th>990</th>\n",
       "      <th>991</th>\n",
       "      <th>992</th>\n",
       "      <th>993</th>\n",
       "      <th>994</th>\n",
       "      <th>995</th>\n",
       "      <th>996</th>\n",
       "      <th>997</th>\n",
       "      <th>998</th>\n",
       "      <th>999</th>\n",
       "      <th>1000</th>\n",
       "    </tr>\n",
       "  </thead>\n",
       "  <tbody>\n",
       "    <tr>\n",
       "      <th>25</th>\n",
       "      <td>M6</td>\n",
       "      <td>4</td>\n",
       "      <td>4</td>\n",
       "      <td>5</td>\n",
       "      <td>2</td>\n",
       "      <td>4</td>\n",
       "      <td>4</td>\n",
       "      <td>4</td>\n",
       "      <td>5</td>\n",
       "      <td>4</td>\n",
       "      <td>4</td>\n",
       "      <td>3</td>\n",
       "      <td>2</td>\n",
       "      <td>5</td>\n",
       "      <td>1</td>\n",
       "      <td>2</td>\n",
       "      <td>4</td>\n",
       "      <td>6</td>\n",
       "      <td>2</td>\n",
       "      <td>3</td>\n",
       "      <td>6</td>\n",
       "      <td>2</td>\n",
       "      <td>6</td>\n",
       "      <td>6</td>\n",
       "      <td>1</td>\n",
       "      <td>1</td>\n",
       "      <td>4</td>\n",
       "      <td>2</td>\n",
       "      <td>2</td>\n",
       "      <td>6</td>\n",
       "      <td>6</td>\n",
       "      <td>4</td>\n",
       "      <td>1</td>\n",
       "      <td>6</td>\n",
       "      <td>2</td>\n",
       "      <td>2</td>\n",
       "      <td>1</td>\n",
       "      <td>1</td>\n",
       "      <td>6</td>\n",
       "      <td>6</td>\n",
       "      <td>...</td>\n",
       "      <td>2</td>\n",
       "      <td>6</td>\n",
       "      <td>1</td>\n",
       "      <td>4</td>\n",
       "      <td>5</td>\n",
       "      <td>1</td>\n",
       "      <td>2</td>\n",
       "      <td>4</td>\n",
       "      <td>2</td>\n",
       "      <td>3</td>\n",
       "      <td>5</td>\n",
       "      <td>5</td>\n",
       "      <td>1</td>\n",
       "      <td>5</td>\n",
       "      <td>2</td>\n",
       "      <td>6</td>\n",
       "      <td>4</td>\n",
       "      <td>4</td>\n",
       "      <td>4</td>\n",
       "      <td>5</td>\n",
       "      <td>1</td>\n",
       "      <td>6</td>\n",
       "      <td>3</td>\n",
       "      <td>1</td>\n",
       "      <td>2</td>\n",
       "      <td>5</td>\n",
       "      <td>2</td>\n",
       "      <td>1</td>\n",
       "      <td>5</td>\n",
       "      <td>6</td>\n",
       "      <td>5</td>\n",
       "      <td>4</td>\n",
       "      <td>6</td>\n",
       "      <td>6</td>\n",
       "      <td>6</td>\n",
       "      <td>6</td>\n",
       "      <td>4</td>\n",
       "      <td>6</td>\n",
       "      <td>3</td>\n",
       "      <td>4</td>\n",
       "    </tr>\n",
       "    <tr>\n",
       "      <th>26</th>\n",
       "      <td>T6</td>\n",
       "      <td>5</td>\n",
       "      <td>5</td>\n",
       "      <td>5</td>\n",
       "      <td>3</td>\n",
       "      <td>5</td>\n",
       "      <td>5</td>\n",
       "      <td>5</td>\n",
       "      <td>6</td>\n",
       "      <td>5</td>\n",
       "      <td>5</td>\n",
       "      <td>4</td>\n",
       "      <td>3</td>\n",
       "      <td>6</td>\n",
       "      <td>2</td>\n",
       "      <td>3</td>\n",
       "      <td>5</td>\n",
       "      <td>6</td>\n",
       "      <td>3</td>\n",
       "      <td>4</td>\n",
       "      <td>6</td>\n",
       "      <td>3</td>\n",
       "      <td>6</td>\n",
       "      <td>6</td>\n",
       "      <td>2</td>\n",
       "      <td>2</td>\n",
       "      <td>5</td>\n",
       "      <td>3</td>\n",
       "      <td>3</td>\n",
       "      <td>6</td>\n",
       "      <td>6</td>\n",
       "      <td>5</td>\n",
       "      <td>2</td>\n",
       "      <td>6</td>\n",
       "      <td>3</td>\n",
       "      <td>3</td>\n",
       "      <td>2</td>\n",
       "      <td>2</td>\n",
       "      <td>6</td>\n",
       "      <td>6</td>\n",
       "      <td>...</td>\n",
       "      <td>2</td>\n",
       "      <td>6</td>\n",
       "      <td>2</td>\n",
       "      <td>4</td>\n",
       "      <td>5</td>\n",
       "      <td>1</td>\n",
       "      <td>3</td>\n",
       "      <td>5</td>\n",
       "      <td>3</td>\n",
       "      <td>4</td>\n",
       "      <td>5</td>\n",
       "      <td>5</td>\n",
       "      <td>2</td>\n",
       "      <td>5</td>\n",
       "      <td>2</td>\n",
       "      <td>6</td>\n",
       "      <td>5</td>\n",
       "      <td>4</td>\n",
       "      <td>5</td>\n",
       "      <td>6</td>\n",
       "      <td>1</td>\n",
       "      <td>6</td>\n",
       "      <td>4</td>\n",
       "      <td>2</td>\n",
       "      <td>3</td>\n",
       "      <td>6</td>\n",
       "      <td>2</td>\n",
       "      <td>2</td>\n",
       "      <td>5</td>\n",
       "      <td>6</td>\n",
       "      <td>5</td>\n",
       "      <td>4</td>\n",
       "      <td>6</td>\n",
       "      <td>6</td>\n",
       "      <td>6</td>\n",
       "      <td>6</td>\n",
       "      <td>4</td>\n",
       "      <td>6</td>\n",
       "      <td>3</td>\n",
       "      <td>5</td>\n",
       "    </tr>\n",
       "    <tr>\n",
       "      <th>27</th>\n",
       "      <td>W6</td>\n",
       "      <td>6</td>\n",
       "      <td>6</td>\n",
       "      <td>6</td>\n",
       "      <td>4</td>\n",
       "      <td>6</td>\n",
       "      <td>6</td>\n",
       "      <td>6</td>\n",
       "      <td>6</td>\n",
       "      <td>6</td>\n",
       "      <td>6</td>\n",
       "      <td>5</td>\n",
       "      <td>4</td>\n",
       "      <td>6</td>\n",
       "      <td>3</td>\n",
       "      <td>4</td>\n",
       "      <td>6</td>\n",
       "      <td>6</td>\n",
       "      <td>4</td>\n",
       "      <td>5</td>\n",
       "      <td>6</td>\n",
       "      <td>4</td>\n",
       "      <td>6</td>\n",
       "      <td>6</td>\n",
       "      <td>3</td>\n",
       "      <td>3</td>\n",
       "      <td>6</td>\n",
       "      <td>4</td>\n",
       "      <td>4</td>\n",
       "      <td>6</td>\n",
       "      <td>6</td>\n",
       "      <td>6</td>\n",
       "      <td>3</td>\n",
       "      <td>6</td>\n",
       "      <td>4</td>\n",
       "      <td>4</td>\n",
       "      <td>3</td>\n",
       "      <td>3</td>\n",
       "      <td>6</td>\n",
       "      <td>6</td>\n",
       "      <td>...</td>\n",
       "      <td>2</td>\n",
       "      <td>6</td>\n",
       "      <td>2</td>\n",
       "      <td>5</td>\n",
       "      <td>5</td>\n",
       "      <td>1</td>\n",
       "      <td>3</td>\n",
       "      <td>6</td>\n",
       "      <td>3</td>\n",
       "      <td>5</td>\n",
       "      <td>5</td>\n",
       "      <td>6</td>\n",
       "      <td>3</td>\n",
       "      <td>6</td>\n",
       "      <td>2</td>\n",
       "      <td>6</td>\n",
       "      <td>5</td>\n",
       "      <td>5</td>\n",
       "      <td>6</td>\n",
       "      <td>6</td>\n",
       "      <td>1</td>\n",
       "      <td>6</td>\n",
       "      <td>5</td>\n",
       "      <td>3</td>\n",
       "      <td>4</td>\n",
       "      <td>6</td>\n",
       "      <td>2</td>\n",
       "      <td>2</td>\n",
       "      <td>5</td>\n",
       "      <td>6</td>\n",
       "      <td>6</td>\n",
       "      <td>5</td>\n",
       "      <td>6</td>\n",
       "      <td>6</td>\n",
       "      <td>6</td>\n",
       "      <td>6</td>\n",
       "      <td>4</td>\n",
       "      <td>6</td>\n",
       "      <td>3</td>\n",
       "      <td>4</td>\n",
       "    </tr>\n",
       "    <tr>\n",
       "      <th>28</th>\n",
       "      <td>TH6</td>\n",
       "      <td>7</td>\n",
       "      <td>7</td>\n",
       "      <td>7</td>\n",
       "      <td>5</td>\n",
       "      <td>7</td>\n",
       "      <td>7</td>\n",
       "      <td>7</td>\n",
       "      <td>7</td>\n",
       "      <td>7</td>\n",
       "      <td>7</td>\n",
       "      <td>6</td>\n",
       "      <td>5</td>\n",
       "      <td>7</td>\n",
       "      <td>4</td>\n",
       "      <td>5</td>\n",
       "      <td>7</td>\n",
       "      <td>7</td>\n",
       "      <td>5</td>\n",
       "      <td>6</td>\n",
       "      <td>7</td>\n",
       "      <td>5</td>\n",
       "      <td>7</td>\n",
       "      <td>7</td>\n",
       "      <td>4</td>\n",
       "      <td>4</td>\n",
       "      <td>7</td>\n",
       "      <td>5</td>\n",
       "      <td>5</td>\n",
       "      <td>7</td>\n",
       "      <td>7</td>\n",
       "      <td>7</td>\n",
       "      <td>4</td>\n",
       "      <td>7</td>\n",
       "      <td>5</td>\n",
       "      <td>5</td>\n",
       "      <td>4</td>\n",
       "      <td>4</td>\n",
       "      <td>7</td>\n",
       "      <td>7</td>\n",
       "      <td>...</td>\n",
       "      <td>3</td>\n",
       "      <td>6</td>\n",
       "      <td>2</td>\n",
       "      <td>5</td>\n",
       "      <td>5</td>\n",
       "      <td>2</td>\n",
       "      <td>4</td>\n",
       "      <td>7</td>\n",
       "      <td>3</td>\n",
       "      <td>6</td>\n",
       "      <td>6</td>\n",
       "      <td>6</td>\n",
       "      <td>4</td>\n",
       "      <td>7</td>\n",
       "      <td>2</td>\n",
       "      <td>7</td>\n",
       "      <td>6</td>\n",
       "      <td>6</td>\n",
       "      <td>6</td>\n",
       "      <td>6</td>\n",
       "      <td>1</td>\n",
       "      <td>6</td>\n",
       "      <td>5</td>\n",
       "      <td>3</td>\n",
       "      <td>5</td>\n",
       "      <td>6</td>\n",
       "      <td>3</td>\n",
       "      <td>2</td>\n",
       "      <td>6</td>\n",
       "      <td>7</td>\n",
       "      <td>7</td>\n",
       "      <td>6</td>\n",
       "      <td>7</td>\n",
       "      <td>6</td>\n",
       "      <td>6</td>\n",
       "      <td>7</td>\n",
       "      <td>4</td>\n",
       "      <td>6</td>\n",
       "      <td>3</td>\n",
       "      <td>6</td>\n",
       "    </tr>\n",
       "    <tr>\n",
       "      <th>29</th>\n",
       "      <td>F6</td>\n",
       "      <td>8</td>\n",
       "      <td>8</td>\n",
       "      <td>8</td>\n",
       "      <td>6</td>\n",
       "      <td>8</td>\n",
       "      <td>8</td>\n",
       "      <td>8</td>\n",
       "      <td>8</td>\n",
       "      <td>8</td>\n",
       "      <td>8</td>\n",
       "      <td>7</td>\n",
       "      <td>6</td>\n",
       "      <td>8</td>\n",
       "      <td>5</td>\n",
       "      <td>6</td>\n",
       "      <td>8</td>\n",
       "      <td>8</td>\n",
       "      <td>6</td>\n",
       "      <td>7</td>\n",
       "      <td>8</td>\n",
       "      <td>6</td>\n",
       "      <td>8</td>\n",
       "      <td>8</td>\n",
       "      <td>5</td>\n",
       "      <td>5</td>\n",
       "      <td>8</td>\n",
       "      <td>6</td>\n",
       "      <td>6</td>\n",
       "      <td>8</td>\n",
       "      <td>8</td>\n",
       "      <td>8</td>\n",
       "      <td>5</td>\n",
       "      <td>8</td>\n",
       "      <td>6</td>\n",
       "      <td>6</td>\n",
       "      <td>5</td>\n",
       "      <td>5</td>\n",
       "      <td>8</td>\n",
       "      <td>8</td>\n",
       "      <td>...</td>\n",
       "      <td>3</td>\n",
       "      <td>7</td>\n",
       "      <td>2</td>\n",
       "      <td>5</td>\n",
       "      <td>5</td>\n",
       "      <td>2</td>\n",
       "      <td>4</td>\n",
       "      <td>8</td>\n",
       "      <td>4</td>\n",
       "      <td>6</td>\n",
       "      <td>6</td>\n",
       "      <td>7</td>\n",
       "      <td>5</td>\n",
       "      <td>8</td>\n",
       "      <td>2</td>\n",
       "      <td>8</td>\n",
       "      <td>6</td>\n",
       "      <td>6</td>\n",
       "      <td>7</td>\n",
       "      <td>6</td>\n",
       "      <td>2</td>\n",
       "      <td>8</td>\n",
       "      <td>5</td>\n",
       "      <td>3</td>\n",
       "      <td>5</td>\n",
       "      <td>7</td>\n",
       "      <td>3</td>\n",
       "      <td>2</td>\n",
       "      <td>6</td>\n",
       "      <td>7</td>\n",
       "      <td>7</td>\n",
       "      <td>7</td>\n",
       "      <td>8</td>\n",
       "      <td>6</td>\n",
       "      <td>8</td>\n",
       "      <td>7</td>\n",
       "      <td>5</td>\n",
       "      <td>7</td>\n",
       "      <td>3</td>\n",
       "      <td>6</td>\n",
       "    </tr>\n",
       "  </tbody>\n",
       "</table>\n",
       "<p>5 rows × 1001 columns</p>\n",
       "</div>"
      ],
      "text/plain": [
       "   Days  1  2  3  4  5  6  7  8  ...  992  993  994  995  996  997  998  999  1000\n",
       "25   M6  4  4  5  2  4  4  4  5  ...    4    6    6    6    6    4    6    3     4\n",
       "26   T6  5  5  5  3  5  5  5  6  ...    4    6    6    6    6    4    6    3     5\n",
       "27   W6  6  6  6  4  6  6  6  6  ...    5    6    6    6    6    4    6    3     4\n",
       "28  TH6  7  7  7  5  7  7  7  7  ...    6    7    6    6    7    4    6    3     6\n",
       "29   F6  8  8  8  6  8  8  8  8  ...    7    8    6    8    7    5    7    3     6\n",
       "\n",
       "[5 rows x 1001 columns]"
      ]
     },
     "execution_count": 204,
     "metadata": {
      "tags": []
     },
     "output_type": "execute_result"
    }
   ],
   "source": [
    "data = pd.read_csv(\"/content/drive/MyDrive/dowell/week 6/week_6transpose.csv\", header =1)\n",
    "data =data.rename(columns = {\"Student\":\"Days\"})\n",
    "print(data.shape)\n",
    "data.tail()"
   ]
  },
  {
   "cell_type": "code",
   "execution_count": 166,
   "metadata": {
    "id": "6lopz8HaMHlO"
   },
   "outputs": [],
   "source": [
    "cols = data.columns[1:1001]"
   ]
  },
  {
   "cell_type": "code",
   "execution_count": 183,
   "metadata": {
    "colab": {
     "base_uri": "https://localhost:8080/",
     "height": 147
    },
    "id": "qfbq-1F-MZ3F",
    "outputId": "eb28a09e-fd2f-4f59-d5eb-8a46bfeafeac"
   },
   "outputs": [
    {
     "name": "stdout",
     "output_type": "stream",
     "text": [
      "(30, 1000)\n"
     ]
    },
    {
     "data": {
      "text/html": [
       "<div>\n",
       "<style scoped>\n",
       "    .dataframe tbody tr th:only-of-type {\n",
       "        vertical-align: middle;\n",
       "    }\n",
       "\n",
       "    .dataframe tbody tr th {\n",
       "        vertical-align: top;\n",
       "    }\n",
       "\n",
       "    .dataframe thead th {\n",
       "        text-align: right;\n",
       "    }\n",
       "</style>\n",
       "<table border=\"1\" class=\"dataframe\">\n",
       "  <thead>\n",
       "    <tr style=\"text-align: right;\">\n",
       "      <th></th>\n",
       "      <th>1</th>\n",
       "      <th>2</th>\n",
       "      <th>3</th>\n",
       "      <th>4</th>\n",
       "      <th>5</th>\n",
       "      <th>6</th>\n",
       "      <th>7</th>\n",
       "      <th>8</th>\n",
       "      <th>9</th>\n",
       "      <th>10</th>\n",
       "      <th>11</th>\n",
       "      <th>12</th>\n",
       "      <th>13</th>\n",
       "      <th>14</th>\n",
       "      <th>15</th>\n",
       "      <th>16</th>\n",
       "      <th>17</th>\n",
       "      <th>18</th>\n",
       "      <th>19</th>\n",
       "      <th>20</th>\n",
       "      <th>21</th>\n",
       "      <th>22</th>\n",
       "      <th>23</th>\n",
       "      <th>24</th>\n",
       "      <th>25</th>\n",
       "      <th>26</th>\n",
       "      <th>27</th>\n",
       "      <th>28</th>\n",
       "      <th>29</th>\n",
       "      <th>30</th>\n",
       "      <th>31</th>\n",
       "      <th>32</th>\n",
       "      <th>33</th>\n",
       "      <th>34</th>\n",
       "      <th>35</th>\n",
       "      <th>36</th>\n",
       "      <th>37</th>\n",
       "      <th>38</th>\n",
       "      <th>39</th>\n",
       "      <th>40</th>\n",
       "      <th>...</th>\n",
       "      <th>961</th>\n",
       "      <th>962</th>\n",
       "      <th>963</th>\n",
       "      <th>964</th>\n",
       "      <th>965</th>\n",
       "      <th>966</th>\n",
       "      <th>967</th>\n",
       "      <th>968</th>\n",
       "      <th>969</th>\n",
       "      <th>970</th>\n",
       "      <th>971</th>\n",
       "      <th>972</th>\n",
       "      <th>973</th>\n",
       "      <th>974</th>\n",
       "      <th>975</th>\n",
       "      <th>976</th>\n",
       "      <th>977</th>\n",
       "      <th>978</th>\n",
       "      <th>979</th>\n",
       "      <th>980</th>\n",
       "      <th>981</th>\n",
       "      <th>982</th>\n",
       "      <th>983</th>\n",
       "      <th>984</th>\n",
       "      <th>985</th>\n",
       "      <th>986</th>\n",
       "      <th>987</th>\n",
       "      <th>988</th>\n",
       "      <th>989</th>\n",
       "      <th>990</th>\n",
       "      <th>991</th>\n",
       "      <th>992</th>\n",
       "      <th>993</th>\n",
       "      <th>994</th>\n",
       "      <th>995</th>\n",
       "      <th>996</th>\n",
       "      <th>997</th>\n",
       "      <th>998</th>\n",
       "      <th>999</th>\n",
       "      <th>1000</th>\n",
       "    </tr>\n",
       "  </thead>\n",
       "  <tbody>\n",
       "    <tr>\n",
       "      <th>0</th>\n",
       "      <td>4</td>\n",
       "      <td>1</td>\n",
       "      <td>3</td>\n",
       "      <td>1</td>\n",
       "      <td>2</td>\n",
       "      <td>5</td>\n",
       "      <td>5</td>\n",
       "      <td>3</td>\n",
       "      <td>5</td>\n",
       "      <td>5</td>\n",
       "      <td>1</td>\n",
       "      <td>1</td>\n",
       "      <td>1</td>\n",
       "      <td>4</td>\n",
       "      <td>5</td>\n",
       "      <td>4</td>\n",
       "      <td>2</td>\n",
       "      <td>1</td>\n",
       "      <td>4</td>\n",
       "      <td>1</td>\n",
       "      <td>5</td>\n",
       "      <td>2</td>\n",
       "      <td>1</td>\n",
       "      <td>1</td>\n",
       "      <td>2</td>\n",
       "      <td>3</td>\n",
       "      <td>2</td>\n",
       "      <td>5</td>\n",
       "      <td>5</td>\n",
       "      <td>4</td>\n",
       "      <td>1</td>\n",
       "      <td>2</td>\n",
       "      <td>4</td>\n",
       "      <td>4</td>\n",
       "      <td>5</td>\n",
       "      <td>4</td>\n",
       "      <td>2</td>\n",
       "      <td>4</td>\n",
       "      <td>5</td>\n",
       "      <td>4</td>\n",
       "      <td>...</td>\n",
       "      <td>3</td>\n",
       "      <td>4</td>\n",
       "      <td>5</td>\n",
       "      <td>5</td>\n",
       "      <td>3</td>\n",
       "      <td>4</td>\n",
       "      <td>2</td>\n",
       "      <td>4</td>\n",
       "      <td>4</td>\n",
       "      <td>1</td>\n",
       "      <td>2</td>\n",
       "      <td>5</td>\n",
       "      <td>1</td>\n",
       "      <td>1</td>\n",
       "      <td>5</td>\n",
       "      <td>5</td>\n",
       "      <td>4</td>\n",
       "      <td>5</td>\n",
       "      <td>4</td>\n",
       "      <td>2</td>\n",
       "      <td>5</td>\n",
       "      <td>3</td>\n",
       "      <td>3</td>\n",
       "      <td>2</td>\n",
       "      <td>1</td>\n",
       "      <td>5</td>\n",
       "      <td>3</td>\n",
       "      <td>2</td>\n",
       "      <td>3</td>\n",
       "      <td>5</td>\n",
       "      <td>5</td>\n",
       "      <td>2</td>\n",
       "      <td>3</td>\n",
       "      <td>1</td>\n",
       "      <td>4</td>\n",
       "      <td>2</td>\n",
       "      <td>5</td>\n",
       "      <td>1</td>\n",
       "      <td>1</td>\n",
       "      <td>2</td>\n",
       "    </tr>\n",
       "  </tbody>\n",
       "</table>\n",
       "<p>1 rows × 1000 columns</p>\n",
       "</div>"
      ],
      "text/plain": [
       "   1  2  3  4  5  6  7  8  9  ...  992  993  994  995  996  997  998  999  1000\n",
       "0  4  1  3  1  2  5  5  3  5  ...    2    3    1    4    2    5    1    1     2\n",
       "\n",
       "[1 rows x 1000 columns]"
      ]
     },
     "execution_count": 183,
     "metadata": {
      "tags": []
     },
     "output_type": "execute_result"
    }
   ],
   "source": [
    "dt = data.drop(\"Days\",axis = 1)\n",
    "print(dt.shape)\n",
    "dt.head(1)"
   ]
  },
  {
   "cell_type": "code",
   "execution_count": 190,
   "metadata": {
    "id": "SKBTg9UcMgJY"
   },
   "outputs": [],
   "source": [
    "dt.index = data[\"Days\"]\n",
    "data_v = dt.values\n",
    "\n",
    "#creating the train and validation set\n",
    "train = data_v[:25]\n",
    "valid = data_v[25:]"
   ]
  },
  {
   "cell_type": "code",
   "execution_count": 191,
   "metadata": {
    "colab": {
     "base_uri": "https://localhost:8080/"
    },
    "id": "iAeyE7-1OsX4",
    "outputId": "a601629f-89b0-48b9-f332-a41c9b0523b5"
   },
   "outputs": [
    {
     "data": {
      "text/plain": [
       "(5, 1000)"
      ]
     },
     "execution_count": 191,
     "metadata": {
      "tags": []
     },
     "output_type": "execute_result"
    }
   ],
   "source": [
    "valid.shape"
   ]
  },
  {
   "cell_type": "code",
   "execution_count": 192,
   "metadata": {
    "colab": {
     "base_uri": "https://localhost:8080/"
    },
    "id": "rEJFeQKKOl0d",
    "outputId": "76f50d27-ff86-40c9-ae0d-41d21b512c78"
   },
   "outputs": [
    {
     "data": {
      "text/plain": [
       "(25, 1000)"
      ]
     },
     "execution_count": 192,
     "metadata": {
      "tags": []
     },
     "output_type": "execute_result"
    }
   ],
   "source": [
    "train.shape"
   ]
  },
  {
   "cell_type": "code",
   "execution_count": 193,
   "metadata": {
    "id": "iNMO4slmMsUw"
   },
   "outputs": [],
   "source": [
    "#fit the model\n",
    "from statsmodels.tsa.vector_ar.var_model import VAR\n",
    "import warnings\n",
    "warnings.filterwarnings('ignore')\n",
    "\n",
    "model = VAR(endog=train )\n",
    "model_fit = model.fit(trend='nc')"
   ]
  },
  {
   "cell_type": "code",
   "execution_count": 194,
   "metadata": {
    "id": "MPG7aSL9MyAI"
   },
   "outputs": [],
   "source": [
    "# make prediction on validation\n",
    "prediction = model_fit.forecast(model_fit.y, steps=len(valid))"
   ]
  },
  {
   "cell_type": "code",
   "execution_count": 195,
   "metadata": {
    "colab": {
     "base_uri": "https://localhost:8080/"
    },
    "id": "3xB5Low7M1zs",
    "outputId": "d999b24a-ceb4-4334-c50d-0d5ee09473df"
   },
   "outputs": [
    {
     "data": {
      "text/plain": [
       "(5, 1000)"
      ]
     },
     "execution_count": 195,
     "metadata": {
      "tags": []
     },
     "output_type": "execute_result"
    }
   ],
   "source": [
    "prediction.shape"
   ]
  },
  {
   "cell_type": "code",
   "execution_count": 196,
   "metadata": {
    "id": "MRailfcUM69z"
   },
   "outputs": [],
   "source": [
    "#converting predictions to dataframe\n",
    "pred = pd.DataFrame(index=range(0,len(prediction)),columns=[cols])\n",
    "for j in range(0,1000):\n",
    "    for i in range(0, len(prediction)):\n",
    "       pred.iloc[i][j] = prediction[i][j]"
   ]
  },
  {
   "cell_type": "code",
   "execution_count": 197,
   "metadata": {
    "colab": {
     "base_uri": "https://localhost:8080/",
     "height": 256
    },
    "id": "obmZwSuaN5UQ",
    "outputId": "fdbb8d6c-7cc3-4586-8b76-629daaaedec3"
   },
   "outputs": [
    {
     "data": {
      "text/html": [
       "<div>\n",
       "<style scoped>\n",
       "    .dataframe tbody tr th:only-of-type {\n",
       "        vertical-align: middle;\n",
       "    }\n",
       "\n",
       "    .dataframe tbody tr th {\n",
       "        vertical-align: top;\n",
       "    }\n",
       "\n",
       "    .dataframe thead tr th {\n",
       "        text-align: left;\n",
       "    }\n",
       "</style>\n",
       "<table border=\"1\" class=\"dataframe\">\n",
       "  <thead>\n",
       "    <tr>\n",
       "      <th></th>\n",
       "      <th>1</th>\n",
       "      <th>2</th>\n",
       "      <th>3</th>\n",
       "      <th>4</th>\n",
       "      <th>5</th>\n",
       "      <th>6</th>\n",
       "      <th>7</th>\n",
       "      <th>8</th>\n",
       "      <th>9</th>\n",
       "      <th>10</th>\n",
       "      <th>11</th>\n",
       "      <th>12</th>\n",
       "      <th>13</th>\n",
       "      <th>14</th>\n",
       "      <th>15</th>\n",
       "      <th>16</th>\n",
       "      <th>17</th>\n",
       "      <th>18</th>\n",
       "      <th>19</th>\n",
       "      <th>20</th>\n",
       "      <th>21</th>\n",
       "      <th>22</th>\n",
       "      <th>23</th>\n",
       "      <th>24</th>\n",
       "      <th>25</th>\n",
       "      <th>26</th>\n",
       "      <th>27</th>\n",
       "      <th>28</th>\n",
       "      <th>29</th>\n",
       "      <th>30</th>\n",
       "      <th>31</th>\n",
       "      <th>32</th>\n",
       "      <th>33</th>\n",
       "      <th>34</th>\n",
       "      <th>35</th>\n",
       "      <th>36</th>\n",
       "      <th>37</th>\n",
       "      <th>38</th>\n",
       "      <th>39</th>\n",
       "      <th>40</th>\n",
       "      <th>...</th>\n",
       "      <th>961</th>\n",
       "      <th>962</th>\n",
       "      <th>963</th>\n",
       "      <th>964</th>\n",
       "      <th>965</th>\n",
       "      <th>966</th>\n",
       "      <th>967</th>\n",
       "      <th>968</th>\n",
       "      <th>969</th>\n",
       "      <th>970</th>\n",
       "      <th>971</th>\n",
       "      <th>972</th>\n",
       "      <th>973</th>\n",
       "      <th>974</th>\n",
       "      <th>975</th>\n",
       "      <th>976</th>\n",
       "      <th>977</th>\n",
       "      <th>978</th>\n",
       "      <th>979</th>\n",
       "      <th>980</th>\n",
       "      <th>981</th>\n",
       "      <th>982</th>\n",
       "      <th>983</th>\n",
       "      <th>984</th>\n",
       "      <th>985</th>\n",
       "      <th>986</th>\n",
       "      <th>987</th>\n",
       "      <th>988</th>\n",
       "      <th>989</th>\n",
       "      <th>990</th>\n",
       "      <th>991</th>\n",
       "      <th>992</th>\n",
       "      <th>993</th>\n",
       "      <th>994</th>\n",
       "      <th>995</th>\n",
       "      <th>996</th>\n",
       "      <th>997</th>\n",
       "      <th>998</th>\n",
       "      <th>999</th>\n",
       "      <th>1000</th>\n",
       "    </tr>\n",
       "  </thead>\n",
       "  <tbody>\n",
       "    <tr>\n",
       "      <th>0</th>\n",
       "      <td>7.29956</td>\n",
       "      <td>7.68198</td>\n",
       "      <td>7.43337</td>\n",
       "      <td>7.44546</td>\n",
       "      <td>7.47575</td>\n",
       "      <td>7.58465</td>\n",
       "      <td>6.98833</td>\n",
       "      <td>7.25902</td>\n",
       "      <td>7.34097</td>\n",
       "      <td>7.40653</td>\n",
       "      <td>5.44799</td>\n",
       "      <td>6.89709</td>\n",
       "      <td>7.32224</td>\n",
       "      <td>6.98833</td>\n",
       "      <td>7.20253</td>\n",
       "      <td>6.86033</td>\n",
       "      <td>5.8726</td>\n",
       "      <td>7.45488</td>\n",
       "      <td>7.36614</td>\n",
       "      <td>7.00152</td>\n",
       "      <td>7.41968</td>\n",
       "      <td>7.3995</td>\n",
       "      <td>6.67252</td>\n",
       "      <td>7.16312</td>\n",
       "      <td>7.00429</td>\n",
       "      <td>7.09923</td>\n",
       "      <td>7.13232</td>\n",
       "      <td>7.56213</td>\n",
       "      <td>7.61356</td>\n",
       "      <td>5.97395</td>\n",
       "      <td>6.73524</td>\n",
       "      <td>7.07041</td>\n",
       "      <td>7.29956</td>\n",
       "      <td>6.79383</td>\n",
       "      <td>6.46492</td>\n",
       "      <td>6.2472</td>\n",
       "      <td>5.82996</td>\n",
       "      <td>7.05301</td>\n",
       "      <td>7.18589</td>\n",
       "      <td>7.53731</td>\n",
       "      <td>...</td>\n",
       "      <td>4.73025</td>\n",
       "      <td>4.73114</td>\n",
       "      <td>3.5196</td>\n",
       "      <td>5.08536</td>\n",
       "      <td>6.89387</td>\n",
       "      <td>6.76356</td>\n",
       "      <td>6.73046</td>\n",
       "      <td>7.34064</td>\n",
       "      <td>6.26107</td>\n",
       "      <td>4.01739</td>\n",
       "      <td>7.43261</td>\n",
       "      <td>5.1035</td>\n",
       "      <td>6.02998</td>\n",
       "      <td>6.25589</td>\n",
       "      <td>5.23485</td>\n",
       "      <td>7.00269</td>\n",
       "      <td>3.28578</td>\n",
       "      <td>4.58234</td>\n",
       "      <td>7.3316</td>\n",
       "      <td>6.58581</td>\n",
       "      <td>5.43715</td>\n",
       "      <td>7.20833</td>\n",
       "      <td>5.9729</td>\n",
       "      <td>3.51051</td>\n",
       "      <td>6.58569</td>\n",
       "      <td>6.16871</td>\n",
       "      <td>5.57782</td>\n",
       "      <td>5.9448</td>\n",
       "      <td>6.19827</td>\n",
       "      <td>2.2882</td>\n",
       "      <td>3.82363</td>\n",
       "      <td>6.31777</td>\n",
       "      <td>5.02311</td>\n",
       "      <td>6.76882</td>\n",
       "      <td>6.54892</td>\n",
       "      <td>4.69069</td>\n",
       "      <td>7.72453</td>\n",
       "      <td>5.89051</td>\n",
       "      <td>5.61251</td>\n",
       "      <td>4.41478</td>\n",
       "    </tr>\n",
       "    <tr>\n",
       "      <th>1</th>\n",
       "      <td>6.32574</td>\n",
       "      <td>6.87177</td>\n",
       "      <td>6.46078</td>\n",
       "      <td>6.46348</td>\n",
       "      <td>6.5213</td>\n",
       "      <td>6.86475</td>\n",
       "      <td>6.13906</td>\n",
       "      <td>6.38659</td>\n",
       "      <td>6.6875</td>\n",
       "      <td>6.45962</td>\n",
       "      <td>4.45762</td>\n",
       "      <td>5.98818</td>\n",
       "      <td>6.44419</td>\n",
       "      <td>6.13906</td>\n",
       "      <td>6.46621</td>\n",
       "      <td>5.93809</td>\n",
       "      <td>4.97431</td>\n",
       "      <td>6.49178</td>\n",
       "      <td>6.60518</td>\n",
       "      <td>6.01096</td>\n",
       "      <td>6.86569</td>\n",
       "      <td>6.45248</td>\n",
       "      <td>5.91748</td>\n",
       "      <td>6.2411</td>\n",
       "      <td>6.11148</td>\n",
       "      <td>6.3559</td>\n",
       "      <td>6.09988</td>\n",
       "      <td>6.69058</td>\n",
       "      <td>6.69001</td>\n",
       "      <td>5.10405</td>\n",
       "      <td>5.55309</td>\n",
       "      <td>6.07779</td>\n",
       "      <td>6.32574</td>\n",
       "      <td>6.1181</td>\n",
       "      <td>5.77269</td>\n",
       "      <td>5.42202</td>\n",
       "      <td>4.99349</td>\n",
       "      <td>6.18058</td>\n",
       "      <td>6.27788</td>\n",
       "      <td>6.62119</td>\n",
       "      <td>...</td>\n",
       "      <td>4.60781</td>\n",
       "      <td>4.1109</td>\n",
       "      <td>2.97946</td>\n",
       "      <td>5.10544</td>\n",
       "      <td>5.99643</td>\n",
       "      <td>6.32286</td>\n",
       "      <td>6.13057</td>\n",
       "      <td>6.92973</td>\n",
       "      <td>5.6938</td>\n",
       "      <td>3.441</td>\n",
       "      <td>7.30041</td>\n",
       "      <td>4.67442</td>\n",
       "      <td>5.41249</td>\n",
       "      <td>5.67241</td>\n",
       "      <td>5.06904</td>\n",
       "      <td>6.27844</td>\n",
       "      <td>3.39502</td>\n",
       "      <td>3.93086</td>\n",
       "      <td>7.30031</td>\n",
       "      <td>5.56375</td>\n",
       "      <td>4.54459</td>\n",
       "      <td>6.63373</td>\n",
       "      <td>5.30423</td>\n",
       "      <td>3.23492</td>\n",
       "      <td>5.93982</td>\n",
       "      <td>5.41849</td>\n",
       "      <td>4.93877</td>\n",
       "      <td>5.15556</td>\n",
       "      <td>5.22645</td>\n",
       "      <td>2.49293</td>\n",
       "      <td>3.40656</td>\n",
       "      <td>5.8124</td>\n",
       "      <td>4.83454</td>\n",
       "      <td>5.5957</td>\n",
       "      <td>6.36479</td>\n",
       "      <td>4.13125</td>\n",
       "      <td>7.73061</td>\n",
       "      <td>5.63818</td>\n",
       "      <td>4.80548</td>\n",
       "      <td>3.91023</td>\n",
       "    </tr>\n",
       "    <tr>\n",
       "      <th>2</th>\n",
       "      <td>4.72537</td>\n",
       "      <td>5.62561</td>\n",
       "      <td>4.97731</td>\n",
       "      <td>4.70347</td>\n",
       "      <td>5.51777</td>\n",
       "      <td>5.60678</td>\n",
       "      <td>4.71417</td>\n",
       "      <td>5.28836</td>\n",
       "      <td>5.4568</td>\n",
       "      <td>5.45048</td>\n",
       "      <td>3.00833</td>\n",
       "      <td>5.25425</td>\n",
       "      <td>5.30531</td>\n",
       "      <td>4.71417</td>\n",
       "      <td>5.47962</td>\n",
       "      <td>3.90367</td>\n",
       "      <td>3.61856</td>\n",
       "      <td>5.26942</td>\n",
       "      <td>5.20018</td>\n",
       "      <td>5.18112</td>\n",
       "      <td>5.83203</td>\n",
       "      <td>5.09356</td>\n",
       "      <td>5.11339</td>\n",
       "      <td>5.34959</td>\n",
       "      <td>5.03141</td>\n",
       "      <td>5.10547</td>\n",
       "      <td>4.62924</td>\n",
       "      <td>5.13671</td>\n",
       "      <td>5.47472</td>\n",
       "      <td>3.19239</td>\n",
       "      <td>4.13523</td>\n",
       "      <td>4.80483</td>\n",
       "      <td>4.72537</td>\n",
       "      <td>4.47236</td>\n",
       "      <td>3.70076</td>\n",
       "      <td>3.69212</td>\n",
       "      <td>3.7134</td>\n",
       "      <td>4.4892</td>\n",
       "      <td>5.27465</td>\n",
       "      <td>5.05051</td>\n",
       "      <td>...</td>\n",
       "      <td>3.39492</td>\n",
       "      <td>3.26901</td>\n",
       "      <td>2.5706</td>\n",
       "      <td>4.07554</td>\n",
       "      <td>5.4212</td>\n",
       "      <td>5.61554</td>\n",
       "      <td>5.8031</td>\n",
       "      <td>6.31981</td>\n",
       "      <td>4.54501</td>\n",
       "      <td>2.59596</td>\n",
       "      <td>6.85985</td>\n",
       "      <td>3.6084</td>\n",
       "      <td>5.03933</td>\n",
       "      <td>5.0007</td>\n",
       "      <td>4.03693</td>\n",
       "      <td>4.6721</td>\n",
       "      <td>2.26841</td>\n",
       "      <td>2.60892</td>\n",
       "      <td>6.25205</td>\n",
       "      <td>5.0016</td>\n",
       "      <td>3.12782</td>\n",
       "      <td>5.26542</td>\n",
       "      <td>4.57167</td>\n",
       "      <td>2.63216</td>\n",
       "      <td>4.98924</td>\n",
       "      <td>4.46858</td>\n",
       "      <td>3.91603</td>\n",
       "      <td>4.43651</td>\n",
       "      <td>4.91649</td>\n",
       "      <td>2.05532</td>\n",
       "      <td>2.46862</td>\n",
       "      <td>4.96737</td>\n",
       "      <td>4.05647</td>\n",
       "      <td>5.05042</td>\n",
       "      <td>5.40906</td>\n",
       "      <td>2.79666</td>\n",
       "      <td>6.15996</td>\n",
       "      <td>5.31395</td>\n",
       "      <td>3.91822</td>\n",
       "      <td>3.22569</td>\n",
       "    </tr>\n",
       "    <tr>\n",
       "      <th>3</th>\n",
       "      <td>4.9592</td>\n",
       "      <td>5.75397</td>\n",
       "      <td>5.32909</td>\n",
       "      <td>4.70426</td>\n",
       "      <td>5.95558</td>\n",
       "      <td>5.43591</td>\n",
       "      <td>5.02946</td>\n",
       "      <td>5.66962</td>\n",
       "      <td>5.69825</td>\n",
       "      <td>5.81353</td>\n",
       "      <td>3.7109</td>\n",
       "      <td>5.47971</td>\n",
       "      <td>5.28969</td>\n",
       "      <td>5.02946</td>\n",
       "      <td>5.73185</td>\n",
       "      <td>4.32466</td>\n",
       "      <td>4.49645</td>\n",
       "      <td>5.47257</td>\n",
       "      <td>5.3672</td>\n",
       "      <td>5.35508</td>\n",
       "      <td>5.8839</td>\n",
       "      <td>5.40686</td>\n",
       "      <td>5.21428</td>\n",
       "      <td>5.3975</td>\n",
       "      <td>5.2382</td>\n",
       "      <td>5.40826</td>\n",
       "      <td>5.00209</td>\n",
       "      <td>5.07991</td>\n",
       "      <td>5.99399</td>\n",
       "      <td>3.62469</td>\n",
       "      <td>4.40037</td>\n",
       "      <td>5.20776</td>\n",
       "      <td>4.9592</td>\n",
       "      <td>4.83563</td>\n",
       "      <td>4.09714</td>\n",
       "      <td>4.39149</td>\n",
       "      <td>4.60463</td>\n",
       "      <td>5.07002</td>\n",
       "      <td>5.62503</td>\n",
       "      <td>5.44528</td>\n",
       "      <td>...</td>\n",
       "      <td>3.63668</td>\n",
       "      <td>3.60437</td>\n",
       "      <td>2.81047</td>\n",
       "      <td>4.15048</td>\n",
       "      <td>5.28814</td>\n",
       "      <td>5.36679</td>\n",
       "      <td>5.50421</td>\n",
       "      <td>5.93004</td>\n",
       "      <td>3.95512</td>\n",
       "      <td>3.12741</td>\n",
       "      <td>6.30667</td>\n",
       "      <td>3.72059</td>\n",
       "      <td>4.7902</td>\n",
       "      <td>4.85833</td>\n",
       "      <td>4.16825</td>\n",
       "      <td>4.68585</td>\n",
       "      <td>2.51808</td>\n",
       "      <td>2.71321</td>\n",
       "      <td>6.01333</td>\n",
       "      <td>5.36002</td>\n",
       "      <td>3.64516</td>\n",
       "      <td>4.89367</td>\n",
       "      <td>4.47619</td>\n",
       "      <td>2.98132</td>\n",
       "      <td>4.49088</td>\n",
       "      <td>4.9131</td>\n",
       "      <td>4.33373</td>\n",
       "      <td>4.50771</td>\n",
       "      <td>4.92072</td>\n",
       "      <td>2.68717</td>\n",
       "      <td>3.26813</td>\n",
       "      <td>4.96173</td>\n",
       "      <td>4.43601</td>\n",
       "      <td>5.09949</td>\n",
       "      <td>5.13019</td>\n",
       "      <td>3.39713</td>\n",
       "      <td>5.5217</td>\n",
       "      <td>4.83564</td>\n",
       "      <td>3.73972</td>\n",
       "      <td>3.22113</td>\n",
       "    </tr>\n",
       "    <tr>\n",
       "      <th>4</th>\n",
       "      <td>5.01583</td>\n",
       "      <td>5.92547</td>\n",
       "      <td>5.64755</td>\n",
       "      <td>4.74985</td>\n",
       "      <td>6.35104</td>\n",
       "      <td>5.18796</td>\n",
       "      <td>5.32339</td>\n",
       "      <td>6.09157</td>\n",
       "      <td>5.99546</td>\n",
       "      <td>6.17551</td>\n",
       "      <td>4.31318</td>\n",
       "      <td>5.59508</td>\n",
       "      <td>5.18635</td>\n",
       "      <td>5.32339</td>\n",
       "      <td>5.86061</td>\n",
       "      <td>4.65434</td>\n",
       "      <td>5.24233</td>\n",
       "      <td>5.72377</td>\n",
       "      <td>5.33824</td>\n",
       "      <td>5.35216</td>\n",
       "      <td>5.77799</td>\n",
       "      <td>5.78844</td>\n",
       "      <td>5.11867</td>\n",
       "      <td>5.3112</td>\n",
       "      <td>5.33614</td>\n",
       "      <td>5.65228</td>\n",
       "      <td>5.42217</td>\n",
       "      <td>4.98673</td>\n",
       "      <td>6.3778</td>\n",
       "      <td>3.94703</td>\n",
       "      <td>4.77533</td>\n",
       "      <td>5.58196</td>\n",
       "      <td>5.01583</td>\n",
       "      <td>5.22839</td>\n",
       "      <td>4.44627</td>\n",
       "      <td>4.88693</td>\n",
       "      <td>5.36066</td>\n",
       "      <td>5.52518</td>\n",
       "      <td>6.00381</td>\n",
       "      <td>5.8152</td>\n",
       "      <td>...</td>\n",
       "      <td>3.83499</td>\n",
       "      <td>3.75803</td>\n",
       "      <td>2.97382</td>\n",
       "      <td>4.14275</td>\n",
       "      <td>5.27892</td>\n",
       "      <td>4.97366</td>\n",
       "      <td>5.22006</td>\n",
       "      <td>5.45954</td>\n",
       "      <td>3.66681</td>\n",
       "      <td>3.20149</td>\n",
       "      <td>5.86793</td>\n",
       "      <td>4.00284</td>\n",
       "      <td>4.46401</td>\n",
       "      <td>4.67111</td>\n",
       "      <td>4.40202</td>\n",
       "      <td>4.83602</td>\n",
       "      <td>2.84109</td>\n",
       "      <td>3.17911</td>\n",
       "      <td>5.63879</td>\n",
       "      <td>5.66832</td>\n",
       "      <td>3.99255</td>\n",
       "      <td>4.72988</td>\n",
       "      <td>4.25839</td>\n",
       "      <td>3.52633</td>\n",
       "      <td>4.34688</td>\n",
       "      <td>5.29746</td>\n",
       "      <td>4.67772</td>\n",
       "      <td>4.79555</td>\n",
       "      <td>4.79303</td>\n",
       "      <td>3.27544</td>\n",
       "      <td>3.84652</td>\n",
       "      <td>5.28888</td>\n",
       "      <td>4.55238</td>\n",
       "      <td>5.25636</td>\n",
       "      <td>5.26855</td>\n",
       "      <td>4.08749</td>\n",
       "      <td>5.07441</td>\n",
       "      <td>4.73304</td>\n",
       "      <td>3.97753</td>\n",
       "      <td>3.0659</td>\n",
       "    </tr>\n",
       "  </tbody>\n",
       "</table>\n",
       "<p>5 rows × 1000 columns</p>\n",
       "</div>"
      ],
      "text/plain": [
       "         1        2        3        4  ...      997      998      999     1000\n",
       "0  7.29956  7.68198  7.43337  7.44546  ...  7.72453  5.89051  5.61251  4.41478\n",
       "1  6.32574  6.87177  6.46078  6.46348  ...  7.73061  5.63818  4.80548  3.91023\n",
       "2  4.72537  5.62561  4.97731  4.70347  ...  6.15996  5.31395  3.91822  3.22569\n",
       "3   4.9592  5.75397  5.32909  4.70426  ...   5.5217  4.83564  3.73972  3.22113\n",
       "4  5.01583  5.92547  5.64755  4.74985  ...  5.07441  4.73304  3.97753   3.0659\n",
       "\n",
       "[5 rows x 1000 columns]"
      ]
     },
     "execution_count": 197,
     "metadata": {
      "tags": []
     },
     "output_type": "execute_result"
    }
   ],
   "source": [
    "pred.head()"
   ]
  },
  {
   "cell_type": "code",
   "execution_count": 198,
   "metadata": {
    "colab": {
     "base_uri": "https://localhost:8080/"
    },
    "id": "EoAy8qd3Qp7R",
    "outputId": "39e9c131-aebc-4a8e-ffaf-288bb2022a68"
   },
   "outputs": [
    {
     "name": "stdout",
     "output_type": "stream",
     "text": [
      "[[ 8.1026941   8.18344637  8.48201782 ...  7.22215415  3.9832547\n",
      "   6.29714064]\n",
      " [ 7.37188558  8.43971268  7.93103154 ...  7.92024671  3.71573283\n",
      "   6.49169632]\n",
      " [ 8.79796847  8.72638213  8.85289911 ...  8.28210717  3.91294785\n",
      "   7.08710869]\n",
      " [ 8.58195018  9.29076713  8.61577209 ...  8.83798843  3.74828038\n",
      "   7.45972641]\n",
      " [ 9.94668081 10.0915098   9.90502513 ...  9.51566193  3.98674742\n",
      "   8.19905255]]\n"
     ]
    }
   ],
   "source": [
    "#make final predictions\n",
    "model = VAR(endog=data_v)\n",
    "model_fit = model.fit()\n",
    "yhat = model_fit.forecast(model_fit.y, steps=5)\n",
    "print(yhat)"
   ]
  },
  {
   "cell_type": "code",
   "execution_count": 205,
   "metadata": {
    "id": "z0GBffekRP_K"
   },
   "outputs": [],
   "source": [
    "predicted_data = pd.DataFrame(yhat)"
   ]
  },
  {
   "cell_type": "code",
   "execution_count": 212,
   "metadata": {
    "colab": {
     "base_uri": "https://localhost:8080/"
    },
    "id": "Ekg-fsvQRtpD",
    "outputId": "cc61538c-387e-4706-937e-f82e8f68cdb3"
   },
   "outputs": [
    {
     "name": "stdout",
     "output_type": "stream",
     "text": [
      "(1000, 5)\n"
     ]
    }
   ],
   "source": [
    "##transpose the predicted Data\n",
    "t_p = predicted_data.transpose()\n",
    "\n",
    "print(t_p.shape)\n"
   ]
  },
  {
   "cell_type": "code",
   "execution_count": 213,
   "metadata": {
    "colab": {
     "base_uri": "https://localhost:8080/",
     "height": 206
    },
    "id": "7XBAMJP-Smr2",
    "outputId": "b63a0976-623f-4a02-84dd-ab17a928f23f"
   },
   "outputs": [
    {
     "data": {
      "text/html": [
       "<div>\n",
       "<style scoped>\n",
       "    .dataframe tbody tr th:only-of-type {\n",
       "        vertical-align: middle;\n",
       "    }\n",
       "\n",
       "    .dataframe tbody tr th {\n",
       "        vertical-align: top;\n",
       "    }\n",
       "\n",
       "    .dataframe thead th {\n",
       "        text-align: right;\n",
       "    }\n",
       "</style>\n",
       "<table border=\"1\" class=\"dataframe\">\n",
       "  <thead>\n",
       "    <tr style=\"text-align: right;\">\n",
       "      <th></th>\n",
       "      <th>M7</th>\n",
       "      <th>T7</th>\n",
       "      <th>W7</th>\n",
       "      <th>TH7</th>\n",
       "      <th>F7</th>\n",
       "    </tr>\n",
       "  </thead>\n",
       "  <tbody>\n",
       "    <tr>\n",
       "      <th>0</th>\n",
       "      <td>8</td>\n",
       "      <td>7</td>\n",
       "      <td>8</td>\n",
       "      <td>8</td>\n",
       "      <td>9</td>\n",
       "    </tr>\n",
       "    <tr>\n",
       "      <th>1</th>\n",
       "      <td>8</td>\n",
       "      <td>8</td>\n",
       "      <td>8</td>\n",
       "      <td>9</td>\n",
       "      <td>10</td>\n",
       "    </tr>\n",
       "    <tr>\n",
       "      <th>2</th>\n",
       "      <td>8</td>\n",
       "      <td>7</td>\n",
       "      <td>8</td>\n",
       "      <td>8</td>\n",
       "      <td>9</td>\n",
       "    </tr>\n",
       "    <tr>\n",
       "      <th>3</th>\n",
       "      <td>5</td>\n",
       "      <td>5</td>\n",
       "      <td>6</td>\n",
       "      <td>6</td>\n",
       "      <td>7</td>\n",
       "    </tr>\n",
       "    <tr>\n",
       "      <th>4</th>\n",
       "      <td>8</td>\n",
       "      <td>8</td>\n",
       "      <td>8</td>\n",
       "      <td>8</td>\n",
       "      <td>9</td>\n",
       "    </tr>\n",
       "  </tbody>\n",
       "</table>\n",
       "</div>"
      ],
      "text/plain": [
       "   M7  T7  W7  TH7  F7\n",
       "0   8   7   8    8   9\n",
       "1   8   8   8    9  10\n",
       "2   8   7   8    8   9\n",
       "3   5   5   6    6   7\n",
       "4   8   8   8    8   9"
      ]
     },
     "execution_count": 213,
     "metadata": {
      "tags": []
     },
     "output_type": "execute_result"
    }
   ],
   "source": [
    "##converting the datatype int float\n",
    "for i in t_p.columns:\n",
    "  t_p[i] = t_p[i].astype(int)  # converting the datatype into float\n",
    "\n",
    "t_p = t_p.rename(columns = {0:\"M7\",1:\"T7\",2:\"W7\",3:\"TH7\",4:\"F7\"})\n",
    "\n",
    "td = t_p[[\"M7\",\"T7\",\"W7\",\"TH7\",\"F7\"]]\n",
    "td.head()"
   ]
  },
  {
   "cell_type": "code",
   "execution_count": 216,
   "metadata": {
    "id": "kGHsbAPmU2lp"
   },
   "outputs": [],
   "source": [
    "td.to_csv(\"/content/drive/MyDrive/dowell/week 6/week7.csv\")"
   ]
  },
  {
   "cell_type": "code",
   "execution_count": 214,
   "metadata": {
    "colab": {
     "base_uri": "https://localhost:8080/",
     "height": 226
    },
    "id": "MM2emVz-TcT7",
    "outputId": "23694b57-c468-437f-dc98-ad20241b6c36"
   },
   "outputs": [
    {
     "data": {
      "text/html": [
       "<div>\n",
       "<style scoped>\n",
       "    .dataframe tbody tr th:only-of-type {\n",
       "        vertical-align: middle;\n",
       "    }\n",
       "\n",
       "    .dataframe tbody tr th {\n",
       "        vertical-align: top;\n",
       "    }\n",
       "\n",
       "    .dataframe thead th {\n",
       "        text-align: right;\n",
       "    }\n",
       "</style>\n",
       "<table border=\"1\" class=\"dataframe\">\n",
       "  <thead>\n",
       "    <tr style=\"text-align: right;\">\n",
       "      <th></th>\n",
       "      <th>Student</th>\n",
       "      <th>M1</th>\n",
       "      <th>T1</th>\n",
       "      <th>W1</th>\n",
       "      <th>TH1</th>\n",
       "      <th>F1</th>\n",
       "      <th>M2</th>\n",
       "      <th>T2</th>\n",
       "      <th>W2</th>\n",
       "      <th>TH2</th>\n",
       "      <th>F2</th>\n",
       "      <th>M3</th>\n",
       "      <th>T3</th>\n",
       "      <th>W3</th>\n",
       "      <th>TH3</th>\n",
       "      <th>F3</th>\n",
       "      <th>M4</th>\n",
       "      <th>T4</th>\n",
       "      <th>W4</th>\n",
       "      <th>TH4</th>\n",
       "      <th>F4</th>\n",
       "      <th>M5</th>\n",
       "      <th>T5</th>\n",
       "      <th>W5</th>\n",
       "      <th>TH5</th>\n",
       "      <th>F5</th>\n",
       "      <th>M6</th>\n",
       "      <th>T6</th>\n",
       "      <th>W6</th>\n",
       "      <th>TH6</th>\n",
       "      <th>F6</th>\n",
       "      <th>M7</th>\n",
       "      <th>T7</th>\n",
       "      <th>W7</th>\n",
       "      <th>TH7</th>\n",
       "      <th>F7</th>\n",
       "    </tr>\n",
       "  </thead>\n",
       "  <tbody>\n",
       "    <tr>\n",
       "      <th>0</th>\n",
       "      <td>1</td>\n",
       "      <td>4</td>\n",
       "      <td>5</td>\n",
       "      <td>5</td>\n",
       "      <td>6</td>\n",
       "      <td>7</td>\n",
       "      <td>1</td>\n",
       "      <td>2</td>\n",
       "      <td>3</td>\n",
       "      <td>4</td>\n",
       "      <td>5</td>\n",
       "      <td>3</td>\n",
       "      <td>4</td>\n",
       "      <td>5</td>\n",
       "      <td>6</td>\n",
       "      <td>7</td>\n",
       "      <td>4</td>\n",
       "      <td>5</td>\n",
       "      <td>6</td>\n",
       "      <td>7</td>\n",
       "      <td>7</td>\n",
       "      <td>5</td>\n",
       "      <td>6</td>\n",
       "      <td>7</td>\n",
       "      <td>7</td>\n",
       "      <td>7</td>\n",
       "      <td>4</td>\n",
       "      <td>5</td>\n",
       "      <td>6</td>\n",
       "      <td>7</td>\n",
       "      <td>8</td>\n",
       "      <td>8</td>\n",
       "      <td>7</td>\n",
       "      <td>8</td>\n",
       "      <td>8</td>\n",
       "      <td>9</td>\n",
       "    </tr>\n",
       "    <tr>\n",
       "      <th>1</th>\n",
       "      <td>2</td>\n",
       "      <td>1</td>\n",
       "      <td>2</td>\n",
       "      <td>3</td>\n",
       "      <td>4</td>\n",
       "      <td>5</td>\n",
       "      <td>5</td>\n",
       "      <td>5</td>\n",
       "      <td>6</td>\n",
       "      <td>6</td>\n",
       "      <td>7</td>\n",
       "      <td>3</td>\n",
       "      <td>4</td>\n",
       "      <td>5</td>\n",
       "      <td>6</td>\n",
       "      <td>7</td>\n",
       "      <td>6</td>\n",
       "      <td>6</td>\n",
       "      <td>7</td>\n",
       "      <td>7</td>\n",
       "      <td>7</td>\n",
       "      <td>3</td>\n",
       "      <td>4</td>\n",
       "      <td>5</td>\n",
       "      <td>6</td>\n",
       "      <td>7</td>\n",
       "      <td>4</td>\n",
       "      <td>5</td>\n",
       "      <td>6</td>\n",
       "      <td>7</td>\n",
       "      <td>8</td>\n",
       "      <td>8</td>\n",
       "      <td>8</td>\n",
       "      <td>8</td>\n",
       "      <td>9</td>\n",
       "      <td>10</td>\n",
       "    </tr>\n",
       "    <tr>\n",
       "      <th>2</th>\n",
       "      <td>3</td>\n",
       "      <td>3</td>\n",
       "      <td>4</td>\n",
       "      <td>5</td>\n",
       "      <td>6</td>\n",
       "      <td>7</td>\n",
       "      <td>2</td>\n",
       "      <td>3</td>\n",
       "      <td>4</td>\n",
       "      <td>5</td>\n",
       "      <td>6</td>\n",
       "      <td>5</td>\n",
       "      <td>6</td>\n",
       "      <td>6</td>\n",
       "      <td>7</td>\n",
       "      <td>7</td>\n",
       "      <td>2</td>\n",
       "      <td>3</td>\n",
       "      <td>4</td>\n",
       "      <td>5</td>\n",
       "      <td>6</td>\n",
       "      <td>3</td>\n",
       "      <td>4</td>\n",
       "      <td>5</td>\n",
       "      <td>6</td>\n",
       "      <td>7</td>\n",
       "      <td>5</td>\n",
       "      <td>5</td>\n",
       "      <td>6</td>\n",
       "      <td>7</td>\n",
       "      <td>8</td>\n",
       "      <td>8</td>\n",
       "      <td>7</td>\n",
       "      <td>8</td>\n",
       "      <td>8</td>\n",
       "      <td>9</td>\n",
       "    </tr>\n",
       "    <tr>\n",
       "      <th>3</th>\n",
       "      <td>4</td>\n",
       "      <td>1</td>\n",
       "      <td>2</td>\n",
       "      <td>3</td>\n",
       "      <td>4</td>\n",
       "      <td>5</td>\n",
       "      <td>1</td>\n",
       "      <td>2</td>\n",
       "      <td>3</td>\n",
       "      <td>4</td>\n",
       "      <td>5</td>\n",
       "      <td>1</td>\n",
       "      <td>2</td>\n",
       "      <td>3</td>\n",
       "      <td>4</td>\n",
       "      <td>5</td>\n",
       "      <td>4</td>\n",
       "      <td>5</td>\n",
       "      <td>6</td>\n",
       "      <td>7</td>\n",
       "      <td>7</td>\n",
       "      <td>4</td>\n",
       "      <td>5</td>\n",
       "      <td>6</td>\n",
       "      <td>7</td>\n",
       "      <td>7</td>\n",
       "      <td>2</td>\n",
       "      <td>3</td>\n",
       "      <td>4</td>\n",
       "      <td>5</td>\n",
       "      <td>6</td>\n",
       "      <td>5</td>\n",
       "      <td>5</td>\n",
       "      <td>6</td>\n",
       "      <td>6</td>\n",
       "      <td>7</td>\n",
       "    </tr>\n",
       "    <tr>\n",
       "      <th>4</th>\n",
       "      <td>5</td>\n",
       "      <td>2</td>\n",
       "      <td>3</td>\n",
       "      <td>4</td>\n",
       "      <td>5</td>\n",
       "      <td>6</td>\n",
       "      <td>5</td>\n",
       "      <td>5</td>\n",
       "      <td>6</td>\n",
       "      <td>6</td>\n",
       "      <td>7</td>\n",
       "      <td>5</td>\n",
       "      <td>6</td>\n",
       "      <td>6</td>\n",
       "      <td>7</td>\n",
       "      <td>7</td>\n",
       "      <td>4</td>\n",
       "      <td>5</td>\n",
       "      <td>6</td>\n",
       "      <td>7</td>\n",
       "      <td>7</td>\n",
       "      <td>3</td>\n",
       "      <td>4</td>\n",
       "      <td>5</td>\n",
       "      <td>6</td>\n",
       "      <td>7</td>\n",
       "      <td>4</td>\n",
       "      <td>5</td>\n",
       "      <td>6</td>\n",
       "      <td>7</td>\n",
       "      <td>8</td>\n",
       "      <td>8</td>\n",
       "      <td>8</td>\n",
       "      <td>8</td>\n",
       "      <td>8</td>\n",
       "      <td>9</td>\n",
       "    </tr>\n",
       "  </tbody>\n",
       "</table>\n",
       "</div>"
      ],
      "text/plain": [
       "   Student  M1  T1  W1  TH1  F1  M2  T2  ...  W6  TH6  F6  M7  T7  W7  TH7  F7\n",
       "0        1   4   5   5    6   7   1   2  ...   6    7   8   8   7   8    8   9\n",
       "1        2   1   2   3    4   5   5   5  ...   6    7   8   8   8   8    9  10\n",
       "2        3   3   4   5    6   7   2   3  ...   6    7   8   8   7   8    8   9\n",
       "3        4   1   2   3    4   5   1   2  ...   4    5   6   5   5   6    6   7\n",
       "4        5   2   3   4    5   6   5   5  ...   6    7   8   8   8   8    8   9\n",
       "\n",
       "[5 rows x 36 columns]"
      ]
     },
     "execution_count": 214,
     "metadata": {
      "tags": []
     },
     "output_type": "execute_result"
    }
   ],
   "source": [
    "week_1_7 = data_imputed.join(td)\n",
    "week_1_7.head()"
   ]
  },
  {
   "cell_type": "code",
   "execution_count": 215,
   "metadata": {
    "id": "cYN9KsRkUWYD"
   },
   "outputs": [],
   "source": [
    "dz = week_1_7\n",
    "dz.to_csv(\"/content/drive/MyDrive/dowell/week 6/week1_7.csv\")"
   ]
  },
  {
   "cell_type": "code",
   "execution_count": 223,
   "metadata": {
    "colab": {
     "base_uri": "https://localhost:8080/"
    },
    "id": "CQYRR9xKU0_q",
    "outputId": "533d3a22-8796-44d4-bef2-017acab408ff"
   },
   "outputs": [
    {
     "name": "stdout",
     "output_type": "stream",
     "text": [
      "Model accuracy of week 7 data with previous weeks data : \n",
      "Mon 5.0\n",
      "Tues 6.9\n",
      "Wed 5.7\n",
      "Thus 26.1\n",
      "Fri 24.0\n"
     ]
    }
   ],
   "source": [
    "data_p = week_1_7.values\n",
    "days = [\"Mon\",\"Tues\",\"Wed\",\"Thus\",\"Fri\"]\n",
    "print(\"Model accuracy of week 7 data with previous weeks data : \")\n",
    "week_6_w7 = []\n",
    "for i in range(5):\n",
    "  X =data_p[:,i+26]\n",
    "  y =  data_p[:,i+31]\n",
    "  acc = accuracy(y, X)\n",
    "  week_6_w7.append(acc)\n",
    "  print(days[i], acc*100)"
   ]
  },
  {
   "cell_type": "code",
   "execution_count": 224,
   "metadata": {
    "colab": {
     "base_uri": "https://localhost:8080/"
    },
    "id": "PDrpRhZGVILY",
    "outputId": "6aa8297d-1557-4e23-91b6-187256ce48c8"
   },
   "outputs": [
    {
     "name": "stdout",
     "output_type": "stream",
     "text": [
      "Model accuracy of week 7 data with previous weeks data : \n",
      "Mon 17.0\n",
      "Tues 17.9\n",
      "Wed 16.2\n",
      "Thus 29.099999999999998\n",
      "Fri 16.1\n"
     ]
    }
   ],
   "source": [
    "data_p = week_1_7.values\n",
    "days = [\"Mon\",\"Tues\",\"Wed\",\"Thus\",\"Fri\"]\n",
    "print(\"Model accuracy of week 7 data with previous weeks data : \")\n",
    "week_6_w5 = []\n",
    "for i in range(5):\n",
    "  X =data_p[:,i+21]\n",
    "  y =  data_p[:,i+26]\n",
    "  acc = accuracy(y, X)\n",
    "  week_6_w5.append(acc)\n",
    "  print(days[i], acc*100)"
   ]
  },
  {
   "cell_type": "code",
   "execution_count": 226,
   "metadata": {
    "colab": {
     "base_uri": "https://localhost:8080/"
    },
    "id": "FKG-UQajVWaL",
    "outputId": "510928b7-e85b-4d4e-b655-a80258be744c"
   },
   "outputs": [
    {
     "name": "stdout",
     "output_type": "stream",
     "text": [
      "The accuracy percenntage of our imputed value is : 70.30114226375909\n"
     ]
    }
   ],
   "source": [
    "per = (mean(week_6_w7)/mean(week_6_w5))*100\n",
    "\n",
    "print(\"The accuracy percenntage of our imputed value is :\",per)"
   ]
  },
  {
   "cell_type": "code",
   "execution_count": 230,
   "metadata": {
    "colab": {
     "base_uri": "https://localhost:8080/"
    },
    "id": "Yt7vbaAfVfZS",
    "outputId": "4556a97f-c899-4aa6-ea1a-2c5480a4dcc3"
   },
   "outputs": [
    {
     "name": "stdout",
     "output_type": "stream",
     "text": [
      "5.650149360659398\n"
     ]
    }
   ],
   "source": [
    "# MSE\n",
    "from sklearn.metrics import mean_squared_error\n",
    "from numpy import asarray as arr\n",
    "mse = mean_squared_error(valid, yhat)\n",
    "print(mse)"
   ]
  },
  {
   "cell_type": "code",
   "execution_count": 231,
   "metadata": {
    "colab": {
     "base_uri": "https://localhost:8080/"
    },
    "id": "5qZqE5ZWV2ZX",
    "outputId": "4968a3ee-00bf-4fb9-b23e-3c3c53025e6f"
   },
   "outputs": [
    {
     "data": {
      "text/plain": [
       "M7    -0.810745\n",
       "T7    -0.686738\n",
       "W7    -0.758557\n",
       "TH7   -0.727454\n",
       "F7    -0.807024\n",
       "dtype: float64"
      ]
     },
     "execution_count": 231,
     "metadata": {
      "tags": []
     },
     "output_type": "execute_result"
    }
   ],
   "source": [
    "td.skew()"
   ]
  },
  {
   "cell_type": "code",
   "execution_count": 233,
   "metadata": {
    "colab": {
     "base_uri": "https://localhost:8080/"
    },
    "id": "xToh2dxOWQZW",
    "outputId": "67f8c492-b105-4a4b-b6e7-6501ec9a3304"
   },
   "outputs": [
    {
     "data": {
      "text/plain": [
       "M7     0.018426\n",
       "T7    -0.093722\n",
       "W7    -0.009720\n",
       "TH7   -0.125536\n",
       "F7     0.043175\n",
       "dtype: float64"
      ]
     },
     "execution_count": 233,
     "metadata": {
      "tags": []
     },
     "output_type": "execute_result"
    }
   ],
   "source": [
    "td.kurtosis()"
   ]
  },
  {
   "cell_type": "code",
   "execution_count": 234,
   "metadata": {
    "colab": {
     "base_uri": "https://localhost:8080/",
     "height": 271
    },
    "id": "FvTBQLMQWSI-",
    "outputId": "3a4cb629-9531-448a-db1e-ee406f3cccea"
   },
   "outputs": [
    {
     "data": {
      "text/plain": [
       "(array([1, 2, 3, 4, 5]), <a list of 5 Text major ticklabel objects>)"
      ]
     },
     "execution_count": 234,
     "metadata": {
      "tags": []
     },
     "output_type": "execute_result"
    },
    {
     "data": {
      "image/png": "[encoded data removed]",
      "text/plain": [
       "<Figure size 1440x360 with 1 Axes>"
      ]
     },
     "metadata": {
      "needs_background": "light",
      "tags": []
     },
     "output_type": "display_data"
    }
   ],
   "source": [
    "td.plot.box(figsize=(20,5))\n",
    "\n",
    "plt.xticks(rotation='vertical')"
   ]
  },
  {
   "cell_type": "code",
   "execution_count": 237,
   "metadata": {
    "colab": {
     "base_uri": "https://localhost:8080/",
     "height": 277
    },
    "id": "dumDIYIpWc3j",
    "outputId": "d42f9200-a722-4d6a-dd58-506d49ee3c36"
   },
   "outputs": [
    {
     "data": {
      "text/plain": [
       "(array([-2.,  0.,  2.,  4.,  6.,  8., 10., 12.]),\n",
       " <a list of 8 Text major ticklabel objects>)"
      ]
     },
     "execution_count": 237,
     "metadata": {
      "tags": []
     },
     "output_type": "execute_result"
    },
    {
     "data": {
      "image/png": "[encoded data removed]",
      "text/plain": [
       "<Figure size 1440x360 with 1 Axes>"
      ]
     },
     "metadata": {
      "needs_background": "light",
      "tags": []
     },
     "output_type": "display_data"
    }
   ],
   "source": [
    "td.plot.hist(figsize=(20,5))\n",
    "\n",
    "plt.xticks(rotation='horizontal')\n"
   ]
  },
  {
   "cell_type": "code",
   "execution_count": 239,
   "metadata": {
    "colab": {
     "base_uri": "https://localhost:8080/",
     "height": 297
    },
    "id": "tARZ2glTWifs",
    "outputId": "ae013888-ac6f-48e7-fd8c-8665e2b7e6bf"
   },
   "outputs": [
    {
     "data": {
      "image/png": "[encoded data removed]",
      "text/plain": [
       "<Figure size 432x288 with 6 Axes>"
      ]
     },
     "metadata": {
      "needs_background": "light",
      "tags": []
     },
     "output_type": "display_data"
    }
   ],
   "source": [
    "td.hist()\n",
    "\n",
    "plt.tight_layout()"
   ]
  }
 ],
 "metadata": {
  "colab": {
   "collapsed_sections": [],
   "name": "week6 Dowell.ipynb",
   "provenance": [],
   "toc_visible": true
  },
  "kernelspec": {
   "display_name": "Python 3",
   "language": "python",
   "name": "python3"
  },
  "language_info": {
   "codemirror_mode": {
    "name": "ipython",
    "version": 3
   },
   "file_extension": ".py",
   "mimetype": "text/x-python",
   "name": "python",
   "nbconvert_exporter": "python",
   "pygments_lexer": "ipython3",
   "version": "3.8.5"
  }
 },
 "nbformat": 4,
 "nbformat_minor": 1
}
